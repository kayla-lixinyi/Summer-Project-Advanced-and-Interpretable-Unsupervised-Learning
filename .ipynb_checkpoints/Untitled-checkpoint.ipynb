{
 "cells": [
  {
   "cell_type": "code",
   "execution_count": 1,
   "id": "6b663431-a17f-4948-aec2-d5cef3cea23e",
   "metadata": {},
   "outputs": [],
   "source": [
    "from sklearn.datasets import make_blobs\n",
    "import matplotlib.pyplot as plt\n",
    "import sys\n",
    "sys.path.append(r'\\Users\\Mochi\\AppData\\Local\\Programs\\Python\\Python310\\Lib\\site-packages')\n",
    "import quads\n",
    "import numpy as np\n",
    "from sklearn.cluster import KMeans\n",
    "import math\n",
    "import matplotlib.patches as patches\n",
    "import statistics as stat"
   ]
  },
  {
   "cell_type": "code",
   "execution_count": 2,
   "id": "b805e96f-25f6-4c6e-88af-1e188c21deb7",
   "metadata": {},
   "outputs": [
    {
     "data": {
      "image/png": "[encoded data removed]",
      "text/plain": [
       "<Figure size 432x288 with 1 Axes>"
      ]
     },
     "metadata": {
      "needs_background": "light"
     },
     "output_type": "display_data"
    }
   ],
   "source": [
    "X, y = make_blobs(n_samples=5, centers=5, n_features=2,random_state=100)\n",
    "plt.scatter(X[:,0], X[:,1], c='blue');\n",
    "plt.show();"
   ]
  },
  {
   "cell_type": "code",
   "execution_count": 3,
   "id": "469b58f2-8bb9-40fc-a2e4-992537fe02c3",
   "metadata": {},
   "outputs": [],
   "source": [
    "size = X.shape[0]\n",
    "lam = 2"
   ]
  },
  {
   "cell_type": "code",
   "execution_count": 4,
   "id": "4e50d69d-c574-4015-9841-1f79f31e43df",
   "metadata": {},
   "outputs": [],
   "source": [
    "def distance(p1, p2, X):\n",
    "    \"\"\"\n",
    "    if p1 != p2, then compute min distance between a point in p1 and a point in p2\n",
    "    \n",
    "    otherwise, compute min distance between 2 points in X\n",
    "    \n",
    "    *assumed no duplicates\n",
    "    \"\"\"\n",
    "    min_D = sys.maxsize\n",
    "    if p1.all() == p2.all():\n",
    "        for x in range(X.shape[0]):\n",
    "            for y in range(X.shape[0]):\n",
    "                if not x==y:\n",
    "                    min_D = min(math.dist(X[x], X[y]), min_D)\n",
    "    else:\n",
    "        for x in p1:\n",
    "            for y in p2:\n",
    "                min_D = min(math.dist(X[x], X[y]), min_D)\n",
    "    return min_D"
   ]
  },
  {
   "cell_type": "code",
   "execution_count": 5,
   "id": "4638d8ec-fec7-42d6-8e5f-84aaad9ee12a",
   "metadata": {},
   "outputs": [],
   "source": [
    "def divide_P(X, pairs): \n",
    "    p1 = []\n",
    "    p2 = []\n",
    "    if not len(pairs) == 0:\n",
    "        for (u,v) in pairs:\n",
    "            if not u in p1:\n",
    "                p1.append(u)\n",
    "            if not v in p1:\n",
    "                p1.append(v)\n",
    "        for x in range(len(X)):\n",
    "            if not x in p1:\n",
    "                p2.append(x)\n",
    "    return np.array(p1), np.array(p2)"
   ]
  },
  {
   "cell_type": "code",
   "execution_count": 6,
   "id": "49f798bd-f043-43b9-88e5-57ed600d9151",
   "metadata": {},
   "outputs": [],
   "source": [
    "def divide_P(X, pairs): \n",
    "    p1 = []\n",
    "    p2 = []\n",
    "    if not len(pairs) == 0:\n",
    "        for (u,v) in pairs:\n",
    "            if not u in p1:\n",
    "                p1.append(u)\n",
    "            if not v in p1:\n",
    "                p1.append(v)\n",
    "        for x in range(len(X)):\n",
    "            if not x in p1:\n",
    "                p2.append(x)\n",
    "    return np.array(p1), np.array(p2)"
   ]
  },
  {
   "cell_type": "code",
   "execution_count": 7,
   "id": "92801a04-f7fb-478e-a7cb-9e663360f095",
   "metadata": {},
   "outputs": [],
   "source": [
    "def compute_min_span_tree(X, lam):\n",
    "    size = X.shape[0]\n",
    "    mst = []\n",
    "    edge = []\n",
    "    while not len(mst)==size-1:\n",
    "     #length should be n-1 pairs\n",
    "        for u in range(size):\n",
    "            if len(mst)==size-1:\n",
    "                break\n",
    "            for v in range(X.shape[0]):\n",
    "                if not u==v and not (u,v) in mst and not (v,u) in mst:\n",
    "                    len_e = math.dist(X[u], X[v])\n",
    "                    p1, p2 = divide_P(X, mst)\n",
    "                    if len(p1)==0:\n",
    "                        dist = distance(X,X,X)\n",
    "                    else:\n",
    "                        dist = distance(p1, p2, X)\n",
    "                    if len_e <= dist and dist <= lam*len_e:\n",
    "                        mst.append((u,v))\n",
    "                        edge.append(math.dist(X[u], X[v]))\n",
    "                        break\n",
    "    mst = np.array(mst)\n",
    "    edge = np.array([edge])\n",
    "    mst_with_edge = np.concatenate((mst, edge.T), axis=1)\n",
    "    return mst, edge, mst_with_edge"
   ]
  },
  {
   "cell_type": "code",
   "execution_count": 8,
   "id": "a19180d8-b1fa-4020-a79c-02c6df79c5c2",
   "metadata": {},
   "outputs": [
    {
     "data": {
      "image/png": "[encoded data removed]",
      "text/plain": [
       "<Figure size 432x288 with 1 Axes>"
      ]
     },
     "metadata": {
      "needs_background": "light"
     },
     "output_type": "display_data"
    }
   ],
   "source": [
    "mst, edge, mst_with_edge = compute_min_span_tree(X, lam)\n",
    "for (u,v) in mst:\n",
    "    x_val = np.array([X[u][0], X[v][0]])\n",
    "    y_val = np.array([X[u][1], X[v][1]])\n",
    "    plt.plot(x_val, y_val)\n",
    "plt.scatter(X[:,0], X[:,1], c='black');\n",
    "plt.show()"
   ]
  },
  {
   "cell_type": "code",
   "execution_count": 9,
   "id": "ec8ebb32-a05e-440d-8df0-02c653dc3c0d",
   "metadata": {},
   "outputs": [],
   "source": [
    "class DirectedTree:\n",
    "    def __init__(self, node_id, point):\n",
    "        self.node_id = node_id\n",
    "        self.point = point\n",
    "        self.parent = None\n",
    "        self.children = []\n",
    "    def __repr__(self):\n",
    "        return 'Tree {}: Point: {}, Children: {}'.format(str(self.node_id), str(self.point), str(self.children))\n",
    "    def add_child(self, child):\n",
    "        self.children.append(child)\n",
    "    def merge_tree(self, t2, mst):\n",
    "        if len(self.children) == 0 and len(t2.children) == 0:\n",
    "            self_count = np.count_nonzero(mst == self.node_id)\n",
    "            t2_count = np.count_nonzero(mst == t2.node_id)\n",
    "            if self_count >= t2_count:\n",
    "                self.add_child(t2)\n",
    "                t2.parent = self\n",
    "                return self, self.node_id, t2.node_id\n",
    "            else:\n",
    "                t2.add_child(self)\n",
    "                self.parent = t2\n",
    "                return t2, t2.node_id, self.node_id\n",
    "        elif len(self.children) > len(t2.children):\n",
    "            self.add_child(t2)\n",
    "            t2.parent = self\n",
    "            return self, self.node_id, t2.node_id\n",
    "        else:\n",
    "            t2.add_child(self)\n",
    "            self.parent = t2\n",
    "            return t2, t2.node_id, self.node_id\n",
    "def get_tree(forest, idx, merge):\n",
    "    for tree in forest:\n",
    "        if tree.node_id == idx:\n",
    "            return tree\n",
    "    for (new, remove) in merge:\n",
    "        if remove == idx:\n",
    "            for tree in forest:\n",
    "                if tree.node_id == new:\n",
    "                    for c in tree.children:\n",
    "                        if c.node_id == remove:\n",
    "                            return c\n",
    "def compute_directed_tree(X, mst_with_edge):\n",
    "    forest = []\n",
    "    for t in range(len(X)):\n",
    "        forest.append(DirectedTree(t, X[t]))\n",
    "    temp_mst = mst_with_edge\n",
    "    temp_forest = forest\n",
    "    merge_history = []\n",
    "    r_loss = []\n",
    "    while not len(temp_mst) == 0:\n",
    "        u = temp_mst[0][0]\n",
    "        v = temp_mst[0][1]\n",
    "        u = get_tree(temp_forest, u, merge_history)\n",
    "        v = get_tree(temp_forest, v, merge_history)\n",
    "        new_tree, new_id, removed_id = DirectedTree.merge_tree(u, v, mst)\n",
    "        r_loss.append([new_id, removed_id, temp_mst[0][2]/2])\n",
    "        temp_mst = np.delete(temp_mst, 0, 0)\n",
    "        temp_forest.remove(get_tree(temp_forest, removed_id, merge_history))\n",
    "        merge_history.append((new_id, removed_id))\n",
    "    return temp_forest, r_loss"
   ]
  },
  {
   "cell_type": "code",
   "execution_count": 10,
   "id": "371ed8e6-0a01-4620-ae93-abec782a8773",
   "metadata": {},
   "outputs": [
    {
     "data": {
      "text/plain": [
       "[Tree 1: Point: [-1.96767517  7.33068613], Children: [Tree 4: Point: [4.0877025  6.41264396], Children: [], Tree 0: Point: [-7.79714858  2.53159927], Children: [Tree 2: Point: [-10.48921793  -6.75177051], Children: [], Tree 3: Point: [ 0.678603   -4.17761085], Children: []]]]"
      ]
     },
     "execution_count": 10,
     "metadata": {},
     "output_type": "execute_result"
    }
   ],
   "source": [
    "forest, r_loss = compute_directed_tree(X, mst_with_edge)\n",
    "forest"
   ]
  },
  {
   "cell_type": "code",
   "execution_count": 18,
   "id": "c56e027f-9cc4-4cd5-ac37-9742a11d2717",
   "metadata": {},
   "outputs": [
    {
     "data": {
      "text/plain": [
       "array([[ 1.        ,  4.        ,  6.12457347],\n",
       "       [ 0.        ,  1.        ,  7.55076122],\n",
       "       [ 2.        ,  0.        ,  9.66582598],\n",
       "       [ 3.        ,  0.        , 10.80980414]])"
      ]
     },
     "execution_count": 18,
     "metadata": {},
     "output_type": "execute_result"
    }
   ],
   "source": [
    "mst_with_edge"
   ]
  },
  {
   "cell_type": "code",
   "execution_count": 23,
   "id": "0804084a-e1ab-406f-b5d5-265a140c35c9",
   "metadata": {},
   "outputs": [
    {
     "data": {
      "text/plain": [
       "array([[ 6.12457347,  7.55076122,  9.66582598, 10.80980414]])"
      ]
     },
     "execution_count": 23,
     "metadata": {},
     "output_type": "execute_result"
    }
   ],
   "source": [
    "edge"
   ]
  },
  {
   "cell_type": "code",
   "execution_count": 16,
   "id": "be023204-7920-4c8d-988f-a1d92d2962fa",
   "metadata": {},
   "outputs": [
    {
     "data": {
      "text/plain": [
       "-7.7971485831528495"
      ]
     },
     "execution_count": 16,
     "metadata": {},
     "output_type": "execute_result"
    }
   ],
   "source": [
    "boundary = []\n",
    "for pair in mst_with_edge:\n",
    "    "
   ]
  },
  {
   "cell_type": "code",
   "execution_count": 21,
   "id": "20e2c506-f29e-4b97-9af2-5bdf109928b9",
   "metadata": {},
   "outputs": [
    {
     "data": {
      "image/png": "[encoded data removed]",
      "text/plain": [
       "<Figure size 432x288 with 1 Axes>"
      ]
     },
     "metadata": {
      "needs_background": "light"
     },
     "output_type": "display_data"
    }
   ],
   "source": [
    "fig, ax1 = plt.subplots(1, 1)\n",
    "for (u,v) in mst:\n",
    "    x_val = np.array([X[u][0], X[v][0]])\n",
    "    y_val = np.array([X[u][1], X[v][1]])\n",
    "    plt.plot(x_val, y_val)\n",
    "plt.scatter(X[:,0], X[:,1], c='black');\n",
    "\n",
    "for pair in mst_with_edge:\n",
    "    u = int(pair[0])\n",
    "    v = int(pair[1])\n",
    "    rad = pair[2]/2\n",
    "    circle1 = plt.Circle( (X[u][0], X[u][1]), rad, fill = False );\n",
    "    ax1.add_patch(circle1)\n",
    "    circle1 = plt.Circle( (X[v][0], X[v][1]), rad, fill = False );\n",
    "    ax1.add_patch(circle1)\n",
    "plt.show()"
   ]
  },
  {
   "cell_type": "code",
   "execution_count": 22,
   "id": "6f1c9d02-4d48-442a-b59e-ea1b89a3662a",
   "metadata": {},
   "outputs": [
    {
     "data": {
      "image/png": "[encoded data removed]",
      "text/plain": [
       "<Figure size 432x288 with 1 Axes>"
      ]
     },
     "metadata": {
      "needs_background": "light"
     },
     "output_type": "display_data"
    }
   ],
   "source": [
    "from scipy.spatial import Voronoi, voronoi_plot_2d\n",
    "vor = Voronoi(X)\n",
    "fig = voronoi_plot_2d(vor)\n",
    "plt.show()"
   ]
  },
  {
   "cell_type": "code",
   "execution_count": null,
   "id": "8619b2d6-4d3a-4e0d-a781-7cf0b5cc2ba2",
   "metadata": {},
   "outputs": [],
   "source": []
  }
 ],
 "metadata": {
  "kernelspec": {
   "display_name": "Python 3 (ipykernel)",
   "language": "python",
   "name": "python3"
  },
  "language_info": {
   "codemirror_mode": {
    "name": "ipython",
    "version": 3
   },
   "file_extension": ".py",
   "mimetype": "text/x-python",
   "name": "python",
   "nbconvert_exporter": "python",
   "pygments_lexer": "ipython3",
   "version": "3.9.5"
  }
 },
 "nbformat": 4,
 "nbformat_minor": 5
}
