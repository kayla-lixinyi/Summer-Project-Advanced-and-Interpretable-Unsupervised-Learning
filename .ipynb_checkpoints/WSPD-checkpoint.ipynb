{
 "cells": [
  {
   "cell_type": "code",
   "execution_count": 5,
   "id": "cca7296d",
   "metadata": {},
   "outputs": [],
   "source": [
    "from sklearn.datasets import make_blobs\n",
    "import matplotlib.pyplot as plt\n",
    "import sys\n",
    "sys.path.append(r'\\Users\\Mochi\\AppData\\Local\\Programs\\Python\\Python310\\Lib\\site-packages')\n",
    "import quads\n",
    "import numpy as np"
   ]
  },
  {
   "cell_type": "code",
   "execution_count": 6,
   "id": "3a58a2fa",
   "metadata": {},
   "outputs": [
    {
     "data": {
      "text/plain": [
       "<matplotlib.collections.PathCollection at 0x1b16ac7e130>"
      ]
     },
     "execution_count": 6,
     "metadata": {},
     "output_type": "execute_result"
    },
    {
     "data": {
      "image/png": "[encoded data removed]",
      "text/plain": [
       "<Figure size 432x288 with 1 Axes>"
      ]
     },
     "metadata": {
      "needs_background": "light"
     },
     "output_type": "display_data"
    }
   ],
   "source": [
    "X, y = make_blobs(n_samples=20, centers=2, n_features=2,random_state=50)\n",
    "plt.scatter(X[:,0], X[:,1])"
   ]
  },
  {
   "cell_type": "code",
   "execution_count": 7,
   "id": "34ca6678",
   "metadata": {},
   "outputs": [
    {
     "name": "stdout",
     "output_type": "stream",
     "text": [
      "4.732805724708723 3.2016611612870562\n"
     ]
    }
   ],
   "source": [
    "mid_X = (np.amax(X[:,0], axis=0) - np.amin(X[:,0], axis=0))/2\n",
    "mid_y = (np.amax(X[:,1], axis=0) - np.amin(X[:,1], axis=0))/2\n",
    "print(mid_X, mid_y)"
   ]
  },
  {
   "cell_type": "code",
   "execution_count": 8,
   "id": "04e07fc8",
   "metadata": {},
   "outputs": [],
   "source": [
    "tree = quads.QuadTree(\n",
    "    (0,0),  # The center point\n",
    "    25,  # The width\n",
    "    25,  # The height\n",
    " )\n",
    "for i in range(X.shape[0]):\n",
    "    tree.insert(quads.Point(X[i,0], X[i,1]))"
   ]
  },
  {
   "cell_type": "code",
   "execution_count": 9,
   "id": "92d6f7ce-74f9-4f57-891c-f1f7769160f1",
   "metadata": {},
   "outputs": [
    {
     "data": {
      "image/png": "[encoded data removed]",
      "text/plain": [
       "<Figure size 720x720 with 1 Axes>"
      ]
     },
     "metadata": {
      "needs_background": "light"
     },
     "output_type": "display_data"
    }
   ],
   "source": [
    "quads.visualize(tree)"
   ]
  },
  {
   "cell_type": "code",
   "execution_count": 10,
   "id": "e539afe9-6aff-4f72-8dfd-ad1b4fc2333d",
   "metadata": {},
   "outputs": [
    {
     "data": {
      "text/plain": [
       "[<Point: (-6.259503193144937, -1.586974178024632)>,\n",
       " <Point: (-5.205232005797686, -0.7001206365778478)>,\n",
       " <Point: (-5.090937840058423, -1.330363745285566)>,\n",
       " <Point: (-5.0402881638325585, -1.3830950874267471)>,\n",
       " <Point: (-5.1717835174633215, -0.36249448946735807)>,\n",
       " <Point: (-3.795312012496008, -0.734993102327355)>,\n",
       " <Point: (-4.7509900500902535, -1.7879324368798895)>,\n",
       " <Point: (-5.514938688712358, -1.69764780809234)>,\n",
       " <Point: (-4.13699984527692, -1.7099372119772382)>,\n",
       " <Point: (-4.033159567620958, -3.5795910917441205)>,\n",
       " <Point: (-0.88843630313622, -4.368070175866921)>,\n",
       " <Point: (-0.5202015420369128, -5.5990529720241575)>,\n",
       " <Point: (-0.5019229399608265, -5.29022209324418)>,\n",
       " <Point: (-1.105493153525105, -3.839429617118596)>,\n",
       " <Point: (-1.3902596851290878, -6.765816812041471)>,\n",
       " <Point: (0.01589916825431556, -4.695552518057381)>,\n",
       " <Point: (0.018370550347881792, -4.576144195559073)>,\n",
       " <Point: (1.3039790325473009, -5.915070054491227)>,\n",
       " <Point: (0.5887698746701778, -5.772903095908645)>,\n",
       " <Point: (3.206108256272509, -4.450567449977902)>]"
      ]
     },
     "execution_count": 10,
     "metadata": {},
     "output_type": "execute_result"
    }
   ],
   "source": [
    "children = tree._root.all_points()\n",
    "children"
   ]
  },
  {
   "cell_type": "code",
   "execution_count": 11,
   "id": "edef1762-31c5-404a-b7dc-f3074de1b0da",
   "metadata": {},
   "outputs": [
    {
     "name": "stdout",
     "output_type": "stream",
     "text": [
      "node:  <QuadNode: (-9.375, -3.125) 6.25x6.25>\n",
      "[<Point: (-6.259503193144937, -1.586974178024632)>]\n",
      "node:  <QuadNode: (-5.46875, -0.78125) 1.5625x1.5625>\n",
      "[<Point: (-5.205232005797686, -0.7001206365778478)>, <Point: (-5.090937840058423, -1.330363745285566)>, <Point: (-5.0402881638325585, -1.3830950874267471)>, <Point: (-5.1717835174633215, -0.36249448946735807)>]\n",
      "node:  <QuadNode: (-5.46875, -0.78125) 1.5625x1.5625>\n",
      "[<Point: (-5.205232005797686, -0.7001206365778478)>, <Point: (-5.090937840058423, -1.330363745285566)>, <Point: (-5.0402881638325585, -1.3830950874267471)>, <Point: (-5.1717835174633215, -0.36249448946735807)>]\n",
      "node:  <QuadNode: (-5.46875, -0.78125) 1.5625x1.5625>\n",
      "[<Point: (-5.205232005797686, -0.7001206365778478)>, <Point: (-5.090937840058423, -1.330363745285566)>, <Point: (-5.0402881638325585, -1.3830950874267471)>, <Point: (-5.1717835174633215, -0.36249448946735807)>]\n",
      "node:  <QuadNode: (-5.46875, -0.78125) 1.5625x1.5625>\n",
      "[<Point: (-5.205232005797686, -0.7001206365778478)>, <Point: (-5.090937840058423, -1.330363745285566)>, <Point: (-5.0402881638325585, -1.3830950874267471)>, <Point: (-5.1717835174633215, -0.36249448946735807)>]\n",
      "node:  <QuadNode: (-3.90625, -0.78125) 1.5625x1.5625>\n",
      "[<Point: (-3.795312012496008, -0.734993102327355)>]\n",
      "node:  <QuadNode: (-5.46875, -2.34375) 1.5625x1.5625>\n",
      "[<Point: (-4.7509900500902535, -1.7879324368798895)>, <Point: (-5.514938688712358, -1.69764780809234)>]\n",
      "node:  <QuadNode: (-5.46875, -2.34375) 1.5625x1.5625>\n",
      "[<Point: (-4.7509900500902535, -1.7879324368798895)>, <Point: (-5.514938688712358, -1.69764780809234)>]\n",
      "node:  <QuadNode: (-3.90625, -2.34375) 1.5625x1.5625>\n",
      "[<Point: (-4.13699984527692, -1.7099372119772382)>]\n",
      "node:  <QuadNode: (-4.6875, -4.6875) 3.125x3.125>\n",
      "[<Point: (-4.033159567620958, -3.5795910917441205)>]\n",
      "node:  <QuadNode: (-1.5625, -4.6875) 3.125x3.125>\n",
      "[<Point: (-0.88843630313622, -4.368070175866921)>, <Point: (-0.5202015420369128, -5.5990529720241575)>, <Point: (-0.5019229399608265, -5.29022209324418)>, <Point: (-1.105493153525105, -3.839429617118596)>]\n",
      "node:  <QuadNode: (-1.5625, -4.6875) 3.125x3.125>\n",
      "[<Point: (-0.88843630313622, -4.368070175866921)>, <Point: (-0.5202015420369128, -5.5990529720241575)>, <Point: (-0.5019229399608265, -5.29022209324418)>, <Point: (-1.105493153525105, -3.839429617118596)>]\n",
      "node:  <QuadNode: (-1.5625, -4.6875) 3.125x3.125>\n",
      "[<Point: (-0.88843630313622, -4.368070175866921)>, <Point: (-0.5202015420369128, -5.5990529720241575)>, <Point: (-0.5019229399608265, -5.29022209324418)>, <Point: (-1.105493153525105, -3.839429617118596)>]\n",
      "node:  <QuadNode: (-1.5625, -4.6875) 3.125x3.125>\n",
      "[<Point: (-0.88843630313622, -4.368070175866921)>, <Point: (-0.5202015420369128, -5.5990529720241575)>, <Point: (-0.5019229399608265, -5.29022209324418)>, <Point: (-1.105493153525105, -3.839429617118596)>]\n",
      "node:  <QuadNode: (-3.125, -9.375) 6.25x6.25>\n",
      "[<Point: (-1.3902596851290878, -6.765816812041471)>]\n",
      "node:  <QuadNode: (1.5625, -4.6875) 3.125x3.125>\n",
      "[<Point: (0.01589916825431556, -4.695552518057381)>, <Point: (0.018370550347881792, -4.576144195559073)>, <Point: (1.3039790325473009, -5.915070054491227)>, <Point: (0.5887698746701778, -5.772903095908645)>]\n",
      "node:  <QuadNode: (1.5625, -4.6875) 3.125x3.125>\n",
      "[<Point: (0.01589916825431556, -4.695552518057381)>, <Point: (0.018370550347881792, -4.576144195559073)>, <Point: (1.3039790325473009, -5.915070054491227)>, <Point: (0.5887698746701778, -5.772903095908645)>]\n",
      "node:  <QuadNode: (1.5625, -4.6875) 3.125x3.125>\n",
      "[<Point: (0.01589916825431556, -4.695552518057381)>, <Point: (0.018370550347881792, -4.576144195559073)>, <Point: (1.3039790325473009, -5.915070054491227)>, <Point: (0.5887698746701778, -5.772903095908645)>]\n",
      "node:  <QuadNode: (1.5625, -4.6875) 3.125x3.125>\n",
      "[<Point: (0.01589916825431556, -4.695552518057381)>, <Point: (0.018370550347881792, -4.576144195559073)>, <Point: (1.3039790325473009, -5.915070054491227)>, <Point: (0.5887698746701778, -5.772903095908645)>]\n",
      "node:  <QuadNode: (4.6875, -4.6875) 3.125x3.125>\n",
      "[<Point: (3.206108256272509, -4.450567449977902)>]\n"
     ]
    }
   ],
   "source": [
    "for child in children:\n",
    "    node, searched_nodes =  tree._root.find_node(child)\n",
    "    print(\"node: \", node)\n",
    "    print(node.all_points())\n",
    "   ## print(searched_nodes)"
   ]
  },
  {
   "cell_type": "code",
   "execution_count": 10,
   "id": "66eb0882-2603-446b-b28b-112a979af1c6",
   "metadata": {},
   "outputs": [
    {
     "data": {
      "text/plain": [
       "[<Point: (-6.259503193144937, -1.586974178024632)>,\n",
       " <Point: (-5.205232005797686, -0.7001206365778478)>,\n",
       " <Point: (-5.090937840058423, -1.330363745285566)>,\n",
       " <Point: (-5.0402881638325585, -1.3830950874267471)>,\n",
       " <Point: (-5.1717835174633215, -0.36249448946735807)>,\n",
       " <Point: (-3.795312012496008, -0.734993102327355)>,\n",
       " <Point: (-4.7509900500902535, -1.7879324368798895)>,\n",
       " <Point: (-5.514938688712358, -1.69764780809234)>,\n",
       " <Point: (-4.13699984527692, -1.7099372119772382)>,\n",
       " <Point: (-4.033159567620958, -3.5795910917441205)>,\n",
       " <Point: (-0.88843630313622, -4.368070175866921)>,\n",
       " <Point: (-0.5202015420369128, -5.5990529720241575)>,\n",
       " <Point: (-0.5019229399608265, -5.29022209324418)>,\n",
       " <Point: (-1.105493153525105, -3.839429617118596)>,\n",
       " <Point: (-1.3902596851290878, -6.765816812041471)>]"
      ]
     },
     "execution_count": 10,
     "metadata": {},
     "output_type": "execute_result"
    }
   ],
   "source": [
    "tree._root.ll.all_points()"
   ]
  },
  {
   "cell_type": "code",
   "execution_count": 11,
   "id": "28f0de24-00c6-4d33-b326-43d1d392aa95",
   "metadata": {},
   "outputs": [
    {
     "data": {
      "text/plain": [
       "<QuadNode: (-6.25, -6.25) 12.5x12.5>"
      ]
     },
     "execution_count": 11,
     "metadata": {},
     "output_type": "execute_result"
    }
   ],
   "source": [
    "tree._root.ll"
   ]
  },
  {
   "cell_type": "code",
   "execution_count": 12,
   "id": "ff7d2ea0-b401-4fad-a5fb-a5aaa5694dba",
   "metadata": {},
   "outputs": [
    {
     "data": {
      "text/plain": [
       "[<Point: (0.01589916825431556, -4.695552518057381)>,\n",
       " <Point: (0.018370550347881792, -4.576144195559073)>,\n",
       " <Point: (1.3039790325473009, -5.915070054491227)>,\n",
       " <Point: (0.5887698746701778, -5.772903095908645)>,\n",
       " <Point: (3.206108256272509, -4.450567449977902)>]"
      ]
     },
     "execution_count": 12,
     "metadata": {},
     "output_type": "execute_result"
    }
   ],
   "source": [
    "tree._root.lr.all_points()"
   ]
  },
  {
   "cell_type": "code",
   "execution_count": 25,
   "id": "584f1ec4-8cfd-407d-b03c-6309e8a16c14",
   "metadata": {},
   "outputs": [
    {
     "data": {
      "text/plain": [
       "(<QuadNode: (-5.46875, -0.78125) 1.5625x1.5625>,\n",
       " [<QuadNode: (-6.25, -6.25) 12.5x12.5>,\n",
       "  <QuadNode: (-3.125, -3.125) 6.25x6.25>,\n",
       "  <QuadNode: (-4.6875, -1.5625) 3.125x3.125>,\n",
       "  <QuadNode: (-5.46875, -0.78125) 1.5625x1.5625>])"
      ]
     },
     "execution_count": 25,
     "metadata": {},
     "output_type": "execute_result"
    }
   ],
   "source": [
    "tree._root.ll.find_node(tree._root.ll.all_points()[4])"
   ]
  },
  {
   "cell_type": "code",
   "execution_count": 14,
   "id": "904f14d2-8896-4e7a-add5-d7ad7b4a9f73",
   "metadata": {},
   "outputs": [
    {
     "data": {
      "text/plain": [
       "[<Point: (0.01589916825431556, -4.695552518057381)>,\n",
       " <Point: (0.018370550347881792, -4.576144195559073)>,\n",
       " <Point: (1.3039790325473009, -5.915070054491227)>,\n",
       " <Point: (0.5887698746701778, -5.772903095908645)>,\n",
       " <Point: (3.206108256272509, -4.450567449977902)>]"
      ]
     },
     "execution_count": 14,
     "metadata": {},
     "output_type": "execute_result"
    }
   ],
   "source": [
    "tree._root.lr.ul.all_points()"
   ]
  },
  {
   "cell_type": "code",
   "execution_count": 44,
   "id": "d8fbc57c-baf6-40d0-9ddc-3316045e5dde",
   "metadata": {},
   "outputs": [
    {
     "data": {
      "text/plain": [
       "numpy.float64"
      ]
     },
     "execution_count": 44,
     "metadata": {},
     "output_type": "execute_result"
    }
   ],
   "source": [
    "type(tree._root.ll.all_points()[4].x)"
   ]
  },
  {
   "cell_type": "code",
   "execution_count": 15,
   "id": "cb8e397f-7b2f-4f53-b792-c60dd6b61ed5",
   "metadata": {},
   "outputs": [],
   "source": [
    "children = tree._root.all_points() ##number of childern in root node"
   ]
  },
  {
   "cell_type": "code",
   "execution_count": 16,
   "id": "aa970fa8-ecb9-4502-b499-d5284b3ca789",
   "metadata": {},
   "outputs": [
    {
     "data": {
      "text/plain": [
       "20"
      ]
     },
     "execution_count": 16,
     "metadata": {},
     "output_type": "execute_result"
    }
   ],
   "source": [
    "len(children)"
   ]
  },
  {
   "cell_type": "code",
   "execution_count": 17,
   "id": "b155692e-9047-4a0d-8819-960105cf00bc",
   "metadata": {},
   "outputs": [
    {
     "ename": "NameError",
     "evalue": "name 'it' is not defined",
     "output_type": "error",
     "traceback": [
      "\u001b[1;31m---------------------------------------------------------------------------\u001b[0m",
      "\u001b[1;31mNameError\u001b[0m                                 Traceback (most recent call last)",
      "\u001b[1;32m~\\AppData\\Local\\Temp/ipykernel_22820/1423224590.py\u001b[0m in \u001b[0;36m<module>\u001b[1;34m\u001b[0m\n\u001b[1;32m----> 1\u001b[1;33m \u001b[0mc\u001b[0m \u001b[1;33m=\u001b[0m \u001b[0mnext\u001b[0m\u001b[1;33m(\u001b[0m\u001b[0mit\u001b[0m\u001b[1;33m)\u001b[0m\u001b[1;33m\u001b[0m\u001b[1;33m\u001b[0m\u001b[0m\n\u001b[0m",
      "\u001b[1;31mNameError\u001b[0m: name 'it' is not defined"
     ]
    }
   ],
   "source": [
    "c = next(it)"
   ]
  },
  {
   "cell_type": "code",
   "execution_count": 34,
   "id": "1fb7e97e-5e5d-44ab-a6cf-ff9957a291bd",
   "metadata": {},
   "outputs": [],
   "source": [
    "\n",
    "def Number_Of_Nodes(node):\n",
    "    count = 0\n",
    "    print(\"node: \", node)\n",
    "    if node.ul is not None:\n",
    "        \n",
    "        if len(node.ul.all_points()) > 0:\n",
    "                        count+=1\n",
    "                        ##print(\"node: \", node)\n",
    "                        ##print(\"ul node: \", node.ul)\n",
    "                        count += Number_Of_Nodes(node.ul)\n",
    "                        \n",
    "        if len(node.ur.all_points()) > 0:\n",
    "                        count+=1\n",
    "                        ##print(\"node: \", node)\n",
    "                        ##print(\"ur node: \", node.ur)\n",
    "                        count += Number_Of_Nodes(node.ur)\n",
    "                        \n",
    "        if len(node.ll.all_points()) > 0:\n",
    "                        count+=1\n",
    "                        ##print(\"node: \", node)\n",
    "                        ##print(\"ll node: \", node.ll)\n",
    "                        count += Number_Of_Nodes(node.ll)\n",
    "                        \n",
    "        if len(node.lr.all_points()) > 0:\n",
    "                        count+=1\n",
    "                        ##print(\"node: \", node)\n",
    "                        ##print(\"lr node: \", node.lr)\n",
    "                        count += Number_Of_Nodes(node.lr)\n",
    "                          \n",
    "    return count"
   ]
  },
  {
   "cell_type": "code",
   "execution_count": 35,
   "id": "7e6190f5-5da3-4f80-8687-57ee326ce275",
   "metadata": {},
   "outputs": [
    {
     "name": "stdout",
     "output_type": "stream",
     "text": [
      "node:  <QuadNode: (0, 0) 25x25>\n",
      "node:  <QuadNode: (0, 0) 25x25>\n",
      "ll node:  <QuadNode: (-6.25, -6.25) 12.5x12.5>\n",
      "node:  <QuadNode: (-6.25, -6.25) 12.5x12.5>\n",
      "node:  <QuadNode: (-6.25, -6.25) 12.5x12.5>\n",
      "ul node:  <QuadNode: (-9.375, -3.125) 6.25x6.25>\n",
      "node:  <QuadNode: (-9.375, -3.125) 6.25x6.25>\n",
      "node:  <QuadNode: (-6.25, -6.25) 12.5x12.5>\n",
      "ur node:  <QuadNode: (-3.125, -3.125) 6.25x6.25>\n",
      "node:  <QuadNode: (-3.125, -3.125) 6.25x6.25>\n",
      "node:  <QuadNode: (-3.125, -3.125) 6.25x6.25>\n",
      "ul node:  <QuadNode: (-4.6875, -1.5625) 3.125x3.125>\n",
      "node:  <QuadNode: (-4.6875, -1.5625) 3.125x3.125>\n",
      "node:  <QuadNode: (-4.6875, -1.5625) 3.125x3.125>\n",
      "ul node:  <QuadNode: (-5.46875, -0.78125) 1.5625x1.5625>\n",
      "node:  <QuadNode: (-5.46875, -0.78125) 1.5625x1.5625>\n",
      "node:  <QuadNode: (-4.6875, -1.5625) 3.125x3.125>\n",
      "ur node:  <QuadNode: (-3.90625, -0.78125) 1.5625x1.5625>\n",
      "node:  <QuadNode: (-3.90625, -0.78125) 1.5625x1.5625>\n",
      "node:  <QuadNode: (-4.6875, -1.5625) 3.125x3.125>\n",
      "ll node:  <QuadNode: (-5.46875, -2.34375) 1.5625x1.5625>\n",
      "node:  <QuadNode: (-5.46875, -2.34375) 1.5625x1.5625>\n",
      "node:  <QuadNode: (-4.6875, -1.5625) 3.125x3.125>\n",
      "lr node:  <QuadNode: (-3.90625, -2.34375) 1.5625x1.5625>\n",
      "node:  <QuadNode: (-3.90625, -2.34375) 1.5625x1.5625>\n",
      "node:  <QuadNode: (-3.125, -3.125) 6.25x6.25>\n",
      "ll node:  <QuadNode: (-4.6875, -4.6875) 3.125x3.125>\n",
      "node:  <QuadNode: (-4.6875, -4.6875) 3.125x3.125>\n",
      "node:  <QuadNode: (-3.125, -3.125) 6.25x6.25>\n",
      "lr node:  <QuadNode: (-1.5625, -4.6875) 3.125x3.125>\n",
      "node:  <QuadNode: (-1.5625, -4.6875) 3.125x3.125>\n",
      "node:  <QuadNode: (-6.25, -6.25) 12.5x12.5>\n",
      "lr node:  <QuadNode: (-3.125, -9.375) 6.25x6.25>\n",
      "node:  <QuadNode: (-3.125, -9.375) 6.25x6.25>\n",
      "node:  <QuadNode: (0, 0) 25x25>\n",
      "lr node:  <QuadNode: (6.25, -6.25) 12.5x12.5>\n",
      "node:  <QuadNode: (6.25, -6.25) 12.5x12.5>\n",
      "node:  <QuadNode: (6.25, -6.25) 12.5x12.5>\n",
      "ul node:  <QuadNode: (3.125, -3.125) 6.25x6.25>\n",
      "node:  <QuadNode: (3.125, -3.125) 6.25x6.25>\n",
      "node:  <QuadNode: (3.125, -3.125) 6.25x6.25>\n",
      "ll node:  <QuadNode: (1.5625, -4.6875) 3.125x3.125>\n",
      "node:  <QuadNode: (1.5625, -4.6875) 3.125x3.125>\n",
      "node:  <QuadNode: (3.125, -3.125) 6.25x6.25>\n",
      "lr node:  <QuadNode: (4.6875, -4.6875) 3.125x3.125>\n",
      "node:  <QuadNode: (4.6875, -4.6875) 3.125x3.125>\n"
     ]
    },
    {
     "data": {
      "text/plain": [
       "15"
      ]
     },
     "execution_count": 35,
     "metadata": {},
     "output_type": "execute_result"
    }
   ],
   "source": [
    "Number_Of_Nodes(tree._root)"
   ]
  },
  {
   "cell_type": "code",
   "execution_count": 50,
   "id": "fbfa8114-608b-45e3-983d-9ceee0ea646d",
   "metadata": {},
   "outputs": [],
   "source": [
    "def Compute_Diam(node):\n",
    "    if len(node.all_points()) > 1:\n",
    "        return node.width\n",
    "    else:\n",
    "        return 0   "
   ]
  },
  {
   "cell_type": "code",
   "execution_count": null,
   "id": "9acb9927-3091-4bba-97df-5e6c6c363fc4",
   "metadata": {},
   "outputs": [],
   "source": [
    "## referenced at https://stackoverflow.com/questions/12472338/flattening-a-list-recursively\n",
    "def flatten(S):\n",
    "    if S == []:\n",
    "        return S\n",
    "    if isinstance(S[0], list):\n",
    "        return flatten(S[0]) + flatten(S[1:])\n",
    "    return S[:1] + flatten(S[1:])"
   ]
  },
  {
   "cell_type": "code",
   "execution_count": 82,
   "id": "dca014a9-389e-4890-b339-6a4b9e7a1d75",
   "metadata": {},
   "outputs": [],
   "source": [
    "def WSPD(node_u, node_v, epsilon):\n",
    "    \"\"\"\n",
    "    tree : QuadTree type\n",
    "    \n",
    "    Returns:\n",
    "    WSDP_Pair : list of WSDP pairs\n",
    "    \"\"\"\n",
    "    pairs = []\n",
    "    diam_u = Compute_Diam(node_u)\n",
    "    diam_v = Compute_Diam(node_v)\n",
    "    if node_u == node_v and diam_u <=1:\n",
    "        return []\n",
    "    if diam_u < diam_v:\n",
    "        node_u, node_v = node_v, node_u\n",
    "        diam_u, diam_v = diam_v, diam_u\n",
    "    if diam_u <= epsilon * Node_Distance(node_u, node_v):\n",
    "        return (node_u, node_v)\n",
    "    \n",
    "    if node_u.ul is not None and len(node_u.ul.all_points()) > 0:\n",
    "        pairs.append(WSPD(node_u.ul, node_v, epsilon))\n",
    "    if node_u.ur is not None and len(node_u.ur.all_points()) > 0:\n",
    "        pairs.append(WSPD(node_u.ur, node_v, epsilon))\n",
    "    if node_u.ll is not None and len(node_u.ll.all_points()) > 0:\n",
    "        pairs.append(WSPD(node_u.ll, node_v, epsilon))\n",
    "    if node_u.lr is not None and len(node_u.lr.all_points()) > 0:\n",
    "        pairs.append(WSPD(node_u.lr, node_v, epsilon))\n",
    "        \n",
    "    pairs =  flatten(pairs)\n",
    "    pairs = list(set(wspd))\n",
    "    return pairs"
   ]
  },
  {
   "cell_type": "code",
   "execution_count": 78,
   "id": "86505ac5-c6a4-43a7-add4-d830a024aae3",
   "metadata": {},
   "outputs": [],
   "source": [
    "def Node_Distance(node_u, node_v):\n",
    "    points_u = node_u.all_points()\n",
    "    points_v = node_v.all_points()\n",
    "    min_D = sys.float_info.max\n",
    "    for p_u in points_u:\n",
    "        for p_v in points_v:\n",
    "            a = np.array([p_u.x, p_u.y])\n",
    "            b = np.array([p_v.x, p_v.y])\n",
    "            if np.linalg.norm(a-b) < min_D:\n",
    "                min_D = np.linalg.norm(a-b)\n",
    "    return min_D"
   ]
  },
  {
   "cell_type": "code",
   "execution_count": 84,
   "id": "e2f94669-274b-4102-a88a-80418dc0a59b",
   "metadata": {},
   "outputs": [],
   "source": [
    "wspd = WSPD(tree._root, tree._root, 8)"
   ]
  },
  {
   "cell_type": "code",
   "execution_count": 86,
   "id": "93867e1e-6af0-498e-9427-0db638c121a0",
   "metadata": {},
   "outputs": [],
   "source": [
    "\n"
   ]
  }
 ],
 "metadata": {
  "kernelspec": {
   "display_name": "Python 3 (ipykernel)",
   "language": "python",
   "name": "python3"
  },
  "language_info": {
   "codemirror_mode": {
    "name": "ipython",
    "version": 3
   },
   "file_extension": ".py",
   "mimetype": "text/x-python",
   "name": "python",
   "nbconvert_exporter": "python",
   "pygments_lexer": "ipython3",
   "version": "3.9.7"
  }
 },
 "nbformat": 4,
 "nbformat_minor": 5
}
