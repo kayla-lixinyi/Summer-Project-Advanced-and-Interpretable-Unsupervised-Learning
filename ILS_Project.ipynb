{
 "cells": [
  {
   "cell_type": "code",
   "execution_count": 5,
   "metadata": {},
   "outputs": [],
   "source": [
    "import numpy as np\n",
    "import pandas as pd\n",
    "from scipy.signal import find_peaks_cwt\n",
    "from scipy.ndimage.filters import gaussian_filter1d\n",
    "from sklearn.metrics import pairwise_distances\n",
    "from sklearn.metrics.pairwise import distance_metrics"
   ]
  },
  {
   "cell_type": "code",
   "execution_count": 6,
   "metadata": {},
   "outputs": [
    {
     "data": {
      "text/plain": [
       "{'cityblock': <function sklearn.metrics.pairwise.manhattan_distances(X, Y=None, *, sum_over_features=True)>,\n",
       " 'cosine': <function sklearn.metrics.pairwise.cosine_distances(X, Y=None)>,\n",
       " 'euclidean': <function sklearn.metrics.pairwise.euclidean_distances(X, Y=None, *, Y_norm_squared=None, squared=False, X_norm_squared=None)>,\n",
       " 'haversine': <function sklearn.metrics.pairwise.haversine_distances(X, Y=None)>,\n",
       " 'l2': <function sklearn.metrics.pairwise.euclidean_distances(X, Y=None, *, Y_norm_squared=None, squared=False, X_norm_squared=None)>,\n",
       " 'l1': <function sklearn.metrics.pairwise.manhattan_distances(X, Y=None, *, sum_over_features=True)>,\n",
       " 'manhattan': <function sklearn.metrics.pairwise.manhattan_distances(X, Y=None, *, sum_over_features=True)>,\n",
       " 'precomputed': None,\n",
       " 'nan_euclidean': <function sklearn.metrics.pairwise.nan_euclidean_distances(X, Y=None, *, squared=False, missing_values=nan, copy=True)>}"
      ]
     },
     "execution_count": 6,
     "metadata": {},
     "output_type": "execute_result"
    }
   ],
   "source": [
    "distance_metrics()"
   ]
  },
  {
   "cell_type": "code",
   "execution_count": 20,
   "metadata": {},
   "outputs": [],
   "source": [
    "class ILS():\n",
    "    \"\"\" Iterative Label Spreading\n",
    "    \n",
    "    Parameters\n",
    "    ----------\n",
    "    \n",
    "    n_clusters : int, default=None\n",
    "        The number of clusters expected to be identified \n",
    "        from given dataset.\n",
    "    \n",
    "    min_cluster_size : int, default=None\n",
    "        The minimum number of data points to be considered as a cluster.\n",
    "    \n",
    "    metric : String, default='euclidean'\n",
    "        The valid metric for pairwise_distance.\n",
    "        Must be a metric listed in pairwise.PAIRWISE_DISTANCE_FUNCTIONS or\n",
    "        an option allowed by scipy.spatial.distance.pdist\n",
    "        \n",
    "    Attributes\n",
    "    ----------\n",
    "    \n",
    "    dataset : ndarray of shape(n_samples, n_features)\n",
    "        Transform input dataset into numpy ndarray\n",
    "        \n",
    "    rmin : ndarray of shape(n_samples, )\n",
    "        The R_min distance of each iteration\n",
    "    \n",
    "    Examples\n",
    "    ---------\n",
    "    ##to be added after implementation of find peaks algorithm\n",
    "    \n",
    "    \"\"\"\n",
    "    def __init__(self, n_clusters = None, min_cluster_size = None, metric = 'euclidean'):\n",
    "        \n",
    "        self.n_clusters = n_clusters # need to calculate defaults based on data set input\n",
    "        self.min_cluster_size = min_cluster_size\n",
    "        self.metric = metric\n",
    "        \n",
    "    def fit(self, X):\n",
    "        \n",
    "        if self.min_cluster_size is None: # added just so that it will run, but need to decide on better default\n",
    "            self.min_cluster_size = int (0.1 * X.shape[0])\n",
    "        \n",
    "        self.data_set = np.concatenate((np.array(X), np.zeros((X.shape[0],2))), axis = 1)\n",
    "        self.rmin = []\n",
    "        \n",
    "        self.data_set[0, X.shape[1]] = 1 #initialise first label\n",
    "        unlabelled = [i + 1 for i in range(X.shape[0] - 1)] # step 1\n",
    "        label_spreading = self.label_spreading([0], unlabelled)\n",
    "        \n",
    "        new_centers, new_unlabelled = self.find_initial_points() # step 2\n",
    "        \n",
    "        label_spreading = self.label_spreading(new_centers, new_unlabelled) #step 3\n",
    "        \n",
    "        return self\n",
    "    \n",
    "    def find_minima(self):\n",
    "        '''\n",
    "        Written by Amanda Parker\n",
    "        Given the index of the peaks used for partitioning the dataset into cluster find the point of maximum density\n",
    "        OUTPUT:\n",
    "            index = list index of r_min plot \n",
    "        '''\n",
    "        if self.rmin == []:\n",
    "            raise Exception(\"ILS has not been run yet\")\n",
    "        \n",
    "        filtered = gaussian_filter1d(self.rmin, self.min_cluster_size) #smooth rmin\n",
    "        index = np.arange(len(filtered))\n",
    "\n",
    "        maxima = find_peaks_cwt(filtered, widths = len(filtered) * [self.min_cluster_size])\n",
    "        maxima = [i for i in maxima if i < len(filtered) - self.min_cluster_size]\n",
    "        maxima = [i for i in maxima if i > self.min_cluster_size] #removing peaks at the beginning and end\n",
    "        \n",
    "        betweenMax = np.split(filtered, maxima)\n",
    "        betweenIndex = np.split(index, maxima)\n",
    "\n",
    "        minVal = [min(i) for i in betweenMax]\n",
    "        subMinIndex = [np.argmin(i) for i in betweenMax]\n",
    "\n",
    "        minima = [betweenIndex[i][subMinIndex[i]] for i in range(len(subMinIndex))]\n",
    "        \n",
    "        self.n_clusters = len(minima)\n",
    "        \n",
    "        return minima\n",
    "    \n",
    "    def find_initial_points(self):\n",
    "        \n",
    "        labelled_points = self.find_minima()\n",
    "        print(labelled_points)\n",
    "        counter = 1\n",
    "        \n",
    "        for i in labelled_points: # assign labels as integers each with different label\n",
    "            self.data_set[i, -1] = counter\n",
    "            counter += 1\n",
    "        \n",
    "        unlabelled_points = [i for i in range(self.data_set.shape[0]) if not i in labelled_points]\n",
    "        print(unlabelled_points)\n",
    "        if len(unlabelled_points) + len(labelled_points) != self.data_set.shape[0]:\n",
    "            raise Exception(\"The number of labelled (0) and unlabelled (0) points does not sum to the total (100) in find_initial_points\")\n",
    "        return labelled_points, unlabelled_points\n",
    "    \n",
    "    def label_spreading(self, labelled_points, unlabelled_points):\n",
    "        \"\"\"\n",
    "        Written by Amanda Parker\n",
    "        Applies iterative label spreading to the given points\n",
    "        \n",
    "        Parameters\n",
    "        ----------\n",
    "        labelled_points : ndarray of shape(labelled_num, n_features+1)\n",
    "            Initial points that are already labelled, the last column indicates the label of the point. \n",
    "            0 indicates unlabelled points, positive integers indicate labelled points.\n",
    "            \n",
    "        unlabelled_points = ndarray of shape(unlabelled_num, n_features+1)\n",
    "            Initial points that are not labelled, the last column indicates the label of the point. \n",
    "            0 indicates unlabelled points, positive integers indicate labelled points.\n",
    "            \n",
    "            \n",
    "        \"\"\"\n",
    "        indices = np.arange(self.data_set.shape[0]) \n",
    "        oldIndex = np.arange(self.data_set.shape[0]) \n",
    "       \n",
    "        labelled = self.data_set[labelled_points]\n",
    "        unlabelled = self.data_set[unlabelled_points]\n",
    "      \n",
    "        labelColumn = self.data_set.shape[1]-2\n",
    "        # lists for ordered output data\n",
    "        outD = []\n",
    "        outID = []\n",
    "        closeID = []\n",
    "    \n",
    "        count = 0\n",
    "        # Continue to label data points until all data points are labelled\n",
    "        while len(unlabelled) > 0 :\n",
    "            # Calculate labelled to unlabelled distances matrix (D) \n",
    "            D = pairwise_distances(\n",
    "                labelled[:, :-1],\n",
    "                unlabelled[:, :-1], metric=self.metric)\n",
    "            # Find the minimum distance between a labelled and unlabelled point\n",
    "            # first the argument in the D matrix\n",
    "            (posL, posUnL) = np.unravel_index(D.argmin(), D.shape)\n",
    "            #append R_min distance\n",
    "            self.rmin.append(D.min())\n",
    "            \n",
    "            # Switch label from 0 to new label\n",
    "            unlabelled[posUnL, labelColumn] = labelled[posL,labelColumn] \n",
    "            # move newly labelled point to labelled dataframe\n",
    "            labelled = np.concatenate((labelled, unlabelled[posUnL, :].reshape(1,unlabelled.shape[1])), axis=0)\n",
    "\n",
    "            # drop from unlabelled data frame\n",
    "            unlabelled = np.delete(unlabelled, posUnL, 0)\n",
    "            \n",
    "            # output the distance and id of the newly labelled point\n",
    "            outID.append(posUnL)\n",
    "            closeID.append(posL)\n",
    "            \n",
    "            \n",
    "        # Throw error if loose or duplicate points\n",
    "        if labelled.shape[0] + unlabelled.shape[0] != self.data_set.shape[0] : \n",
    "            raise Exception(\n",
    "                '''The number of labelled ({}) and unlabelled ({}) points does not sum to the total ({})'''.format( len(labelled), len(unlabelled),self.data_set.shape[0]) )\n",
    "        # Reodered index for consistancy\n",
    "        newIndex = oldIndex[outID]\n",
    "        \n",
    "        # ID of point label was spread from\n",
    "        closest = np.concatenate((np.array(newIndex).reshape((-1, 1)), np.array(closeID).reshape((-1, 1))), axis=1)      \n",
    "         \n",
    "        print(count)\n",
    "        # Add new labels\n",
    "        newLabels = labelled[:,self.data_set.shape[1]-1]\n",
    "        self.data_set[:,self.data_set.shape[1]-2] = newLabels\n",
    "        \n",
    "        # return\n",
    "        return newLabels, closest"
   ]
  },
  {
   "cell_type": "code",
   "execution_count": 21,
   "metadata": {},
   "outputs": [
    {
     "name": "stdout",
     "output_type": "stream",
     "text": [
      "99\n",
      "[0, 85]\n",
      "[1, 2, 3, 4, 5, 6, 7, 8, 9, 10, 11, 12, 13, 14, 15, 16, 17, 18, 19, 20, 21, 22, 23, 24, 25, 26, 27, 28, 29, 30, 31, 32, 33, 34, 35, 36, 37, 38, 39, 40, 41, 42, 43, 44, 45, 46, 47, 48, 49, 50, 51, 52, 53, 54, 55, 56, 57, 58, 59, 60, 61, 62, 63, 64, 65, 66, 67, 68, 69, 70, 71, 72, 73, 74, 75, 76, 77, 78, 79, 80, 81, 82, 83, 84, 86, 87, 88, 89, 90, 91, 92, 93, 94, 95, 96, 97, 98, 99]\n",
      "98\n"
     ]
    }
   ],
   "source": [
    "test_data = np.random.normal(2, 0.1, (50, 2))\n",
    "a = np.random.normal(-2, 0.1, (50, 2))\n",
    "test_data = np.concatenate((test_data, a), axis = 0)\n",
    "\n",
    "testILS = ILS()\n",
    "test_model = testILS.fit(test_data)\n"
   ]
  },
  {
   "cell_type": "code",
   "execution_count": 10,
   "metadata": {},
   "outputs": [
    {
     "data": {
      "text/plain": [
       "[<matplotlib.lines.Line2D at 0x7fb34a1c5b80>]"
      ]
     },
     "execution_count": 10,
     "metadata": {},
     "output_type": "execute_result"
    },
    {
     "data": {
      "image/png": "[encoded data removed]",
      "text/plain": [
       "<Figure size 432x288 with 1 Axes>"
      ]
     },
     "metadata": {
      "needs_background": "light"
     },
     "output_type": "display_data"
    }
   ],
   "source": [
    "import matplotlib.pyplot as plt\n",
    "\n",
    "plt.plot(test_model.rmin)"
   ]
  },
  {
   "cell_type": "code",
   "execution_count": 11,
   "metadata": {},
   "outputs": [
    {
     "data": {
      "text/plain": [
       "<matplotlib.collections.PathCollection at 0x7fb34a354640>"
      ]
     },
     "execution_count": 11,
     "metadata": {},
     "output_type": "execute_result"
    },
    {
     "data": {
      "image/png": "[encoded data removed]",
      "text/plain": [
       "<Figure size 432x288 with 1 Axes>"
      ]
     },
     "metadata": {
      "needs_background": "light"
     },
     "output_type": "display_data"
    }
   ],
   "source": [
    "plt.scatter(test_data[:, 0], test_data[:, 1])"
   ]
  },
  {
   "cell_type": "code",
   "execution_count": null,
   "metadata": {},
   "outputs": [],
   "source": []
  }
 ],
 "metadata": {
  "kernelspec": {
   "display_name": "Python 3 (ipykernel)",
   "language": "python",
   "name": "python3"
  },
  "language_info": {
   "codemirror_mode": {
    "name": "ipython",
    "version": 3
   },
   "file_extension": ".py",
   "mimetype": "text/x-python",
   "name": "python",
   "nbconvert_exporter": "python",
   "pygments_lexer": "ipython3",
   "version": "3.9.7"
  }
 },
 "nbformat": 4,
 "nbformat_minor": 4
}
