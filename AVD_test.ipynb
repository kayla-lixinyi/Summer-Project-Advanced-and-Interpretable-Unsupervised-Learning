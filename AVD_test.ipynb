{
 "cells": [
  {
   "cell_type": "code",
   "execution_count": 1,
   "id": "402d22bb-d570-4b4d-acc2-fb004dcfc867",
   "metadata": {},
   "outputs": [],
   "source": [
    "from sklearn.datasets import make_blobs\n",
    "import matplotlib.pyplot as plt\n",
    "import sys\n",
    "sys.path.append(r'\\Users\\Mochi\\AppData\\Local\\Programs\\Python\\Python310\\Lib\\site-packages')\n",
    "import quads\n",
    "import numpy as np\n",
    "from sklearn.cluster import KMeans\n",
    "import math\n",
    "import matplotlib.patches as patches"
   ]
  },
  {
   "cell_type": "code",
   "execution_count": 3,
   "id": "560126e7-0f4e-4250-8fa9-76677805f987",
   "metadata": {},
   "outputs": [],
   "source": [
    "def find_center(points):\n",
    "    \"\"\"\n",
    "    compute center of given points\n",
    "    \"\"\"\n",
    "    return np.sum(points, axis=0)/points.shape[0]\n",
    "def max_distance(points):\n",
    "    \"\"\"\n",
    "    compute maximum distance between a set of points\n",
    "    \"\"\"\n",
    "    return max(points)-min(points)\n",
    "\n",
    "###quad WSPD###\n",
    "def Compute_Diam(node):\n",
    "    if len(node.all_points()) > 1:\n",
    "        return node.width\n",
    "    else:\n",
    "        return 0   \n",
    "## referenced at https://stackoverflow.com/questions/12472338/flattening-a-list-recursively\n",
    "def flatten(S):\n",
    "    if S == []:\n",
    "        return S\n",
    "    if isinstance(S[0], list):\n",
    "        return flatten(S[0]) + flatten(S[1:])\n",
    "    return S[:1] + flatten(S[1:])\n",
    "def WSPD(node_u, node_v, epsilon):\n",
    "    \"\"\"\n",
    "    tree : QuadTree type\n",
    "    \n",
    "    Returns:\n",
    "    WSDP_Pair : list of WSDP pairs\n",
    "    \"\"\"\n",
    "    pairs = []\n",
    "    diam_u = Compute_Diam(node_u)\n",
    "    diam_v = Compute_Diam(node_v)\n",
    "    if node_u == node_v and diam_u <=1:\n",
    "        return []\n",
    "    if diam_u < diam_v:\n",
    "        node_u, node_v = node_v, node_u\n",
    "        diam_u, diam_v = diam_v, diam_u\n",
    "    if diam_u <= epsilon * Node_Distance(node_u, node_v):\n",
    "        return (node_u, node_v)\n",
    "    \n",
    "    if node_u.ul is not None and len(node_u.ul.all_points()) > 0:\n",
    "        pairs.append(WSPD(node_u.ul, node_v, epsilon))\n",
    "    if node_u.ur is not None and len(node_u.ur.all_points()) > 0:\n",
    "        pairs.append(WSPD(node_u.ur, node_v, epsilon))\n",
    "    if node_u.ll is not None and len(node_u.ll.all_points()) > 0:\n",
    "        pairs.append(WSPD(node_u.ll, node_v, epsilon))\n",
    "    if node_u.lr is not None and len(node_u.lr.all_points()) > 0:\n",
    "        pairs.append(WSPD(node_u.lr, node_v, epsilon))\n",
    "        \n",
    "    pairs =  flatten(pairs)\n",
    "    pairs = list(set(pairs))\n",
    "    return pairs\n",
    "def Node_Distance(node_u, node_v):\n",
    "    points_u = node_u.all_points()\n",
    "    points_v = node_v.all_points()\n",
    "    min_D = sys.float_info.max\n",
    "    for p_u in points_u:\n",
    "        for p_v in points_v:\n",
    "            a = np.array([p_u.x, p_u.y])\n",
    "            b = np.array([p_v.x, p_v.y])\n",
    "            if np.linalg.norm(a-b) < min_D:\n",
    "                min_D = np.linalg.norm(a-b)\n",
    "    return min_D"
   ]
  },
  {
   "cell_type": "code",
   "execution_count": 5,
   "id": "331c15d4-973f-4703-8f27-42c8047c7f8b",
   "metadata": {},
   "outputs": [
    {
     "data": {
      "image/png": "[encoded data removed]",
      "text/plain": [
       "<Figure size 432x288 with 1 Axes>"
      ]
     },
     "metadata": {
      "needs_background": "light"
     },
     "output_type": "display_data"
    }
   ],
   "source": [
    "##create 2 clusters\n",
    "X, y = make_blobs(n_samples=20, centers=2, n_features=2,random_state=100)\n",
    "u = []\n",
    "v = []\n",
    "for i in range(len(y)):\n",
    "    if y[i] == 0:\n",
    "        u.append(X[i])\n",
    "        plt.scatter(X[i,0], X[i,1], c='blue');\n",
    "    else:\n",
    "        v.append(X[i])\n",
    "        plt.scatter(X[i,0], X[i,1], c='red');\n",
    "plt.show();\n",
    "u = np.array(u)\n",
    "v = np.array(v)"
   ]
  },
  {
   "cell_type": "code",
   "execution_count": 6,
   "id": "60c2b5d6-0034-4acf-a264-4f31a2a4e61a",
   "metadata": {},
   "outputs": [],
   "source": [
    "epsilon = 8\n",
    "upper_rad = math.ceil(math.log((1/epsilon), 10) + 1)\n",
    "lower_rad = -2"
   ]
  },
  {
   "cell_type": "code",
   "execution_count": 7,
   "id": "2e8b0c1f-e976-480f-bd79-567e762f51ae",
   "metadata": {},
   "outputs": [],
   "source": [
    "center_u = find_center(u)"
   ]
  },
  {
   "cell_type": "code",
   "execution_count": 8,
   "id": "c88ff933-50b5-4768-b66b-34d42c4932c2",
   "metadata": {},
   "outputs": [
    {
     "data": {
      "text/plain": [
       "array([ 0.97227783, -4.28687627])"
      ]
     },
     "execution_count": 8,
     "metadata": {},
     "output_type": "execute_result"
    }
   ],
   "source": [
    "center_u"
   ]
  },
  {
   "cell_type": "code",
   "execution_count": 15,
   "id": "3d8f42bc-8a81-4910-a7b0-302eb7cb5354",
   "metadata": {},
   "outputs": [],
   "source": [
    "def find_midpoint(points):\n",
    "    \"\"\"\n",
    "    compute maximum distance between a set of points\n",
    "    \"\"\"\n",
    "    return (max(points)+min(points))/2"
   ]
  },
  {
   "cell_type": "code",
   "execution_count": 18,
   "id": "9e2d2128-7c99-4c2e-a203-83c533482ae0",
   "metadata": {},
   "outputs": [
    {
     "name": "stdout",
     "output_type": "stream",
     "text": [
      "1.3857921409956062 -4.220968833995092\n",
      "2\n"
     ]
    }
   ],
   "source": [
    "X_u = find_midpoint(u[:,0])\n",
    "Y_u = find_midpoint(u[:,1])\n",
    "length = math.ceil(max(np.array([X_u, Y_u])))\n",
    "print(X_u, Y_u)\n",
    "print(length)"
   ]
  },
  {
   "cell_type": "code",
   "execution_count": 25,
   "id": "ca963a92-88e6-46c4-85a1-6412d3cf2f6e",
   "metadata": {},
   "outputs": [],
   "source": [
    "tree = quads.QuadTree(\n",
    "    (X_u, Y_u),  # The center point\n",
    "    5,  # The width\n",
    "    5,  # The height\n",
    " )\n",
    "for i in range(u.shape[0]):\n",
    "    tree.insert(quads.Point(u[i,0], u[i,1]))"
   ]
  },
  {
   "cell_type": "code",
   "execution_count": 26,
   "id": "960456b2-727a-4605-9739-f01a36fcfd50",
   "metadata": {},
   "outputs": [
    {
     "data": {
      "image/png": "[encoded data removed]",
      "text/plain": [
       "<Figure size 720x720 with 1 Axes>"
      ]
     },
     "metadata": {
      "needs_background": "light"
     },
     "output_type": "display_data"
    }
   ],
   "source": [
    "quads.visualize(tree)"
   ]
  },
  {
   "cell_type": "code",
   "execution_count": null,
   "id": "7f814c3e-ff75-46f1-9228-980d95a62754",
   "metadata": {},
   "outputs": [],
   "source": [
    "#draw circles and bounding boxes for all NEW WSPDs\n",
    "\n",
    "fig, ax1 = plt.subplots(1, 1)\n",
    "pts = tree._root.all_points()\n",
    "points_u = []\n",
    "\n",
    "for i in range(len(pts)):\n",
    "    points_u.append(np.array([pts[i].x, pts[i].y]))\n",
    "    nd, searched_nodes_u =  tree._root.find_node(u[i])\n",
    "    ax1.scatter(u[i].x, u[i].y, c='blue');\n",
    "    # for n in searched_nodes_u:       \n",
    "    #     rect = patches.Rectangle(((n.center.x-n.width/2), (n.center.y-n.height/2)), n.width, n.height, linewidth=0.5, edgecolor='purple', facecolor='none')\n",
    "    #     ax1.add_patch(rect)\n",
    "\n",
    "l = np.linalg.norm(center_u- center_v)\n",
    "searched_nodes_u = searched_nodes_u[::-1]\n",
    "searched_nodes_v = searched_nodes_v[::-1]\n",
    "for m in range(-2,e+1):\n",
    "    ##replace 15 with length of quadtree bounding box\n",
    "    if pow(2, m)*l*2 < 15:\n",
    "        circle1 = plt.Circle( (center_u[0], center_u[1] ), pow(2, m)*l, fill = False );\n",
    "        ax1.add_patch(circle1)\n",
    "        circle1 = plt.Circle( (center_v[0], center_v[1] ), pow(2, m)*l, fill = False );\n",
    "        ax1.add_patch(circle1)\n",
    "        for rec in searched_nodes_u:\n",
    "            if checkOverlap(pow(2, m)*l, center_u[0], center_u[1], rec.center.x-rec.width/2, rec.center.y-rec.height/2, rec.center.x+rec.width/2, rec.center.y+rec.height/2) and pow(2, m)*l*8/(16*2):\n",
    "                rect = patches.Rectangle(((rec.center.x-rec.width/2), (rec.center.y-rec.height/2)), rec.width, rec.height, linewidth=0.5, edgecolor='green', facecolor='none')\n",
    "                ax1.add_patch(rect)\n",
    "            else:\n",
    "                rect = patches.Rectangle(((rec.center.x-rec.width/2), (rec.center.y-rec.height/2)), rec.width, rec.height, linewidth=0.5, edgecolor='purple', facecolor='none')\n",
    "                ax1.add_patch(rect)\n",
    "        for rec in searched_nodes_v:\n",
    "            if checkOverlap(pow(2, m)*l, center_v[0], center_v[1], rec.center.x-rec.width/2, rec.center.y-rec.height/2, rec.center.x+rec.width/2, rec.center.y+rec.height/2) and pow(2, m)*l*8/(16*2):\n",
    "                rect = patches.Rectangle(((rec.center.x-rec.width/2), (rec.center.y-rec.height/2)), rec.width, rec.height, linewidth=0.5, edgecolor='green', facecolor='none')\n",
    "                ax1.add_patch(rect)\n",
    "            else:\n",
    "                rect = patches.Rectangle(((rec.center.x-rec.width/2), (rec.center.y-rec.height/2)), rec.width, rec.height, linewidth=0.5, edgecolor='purple', facecolor='none')\n",
    "                ax1.add_patch(rect)\n",
    "plt.show()"
   ]
  }
 ],
 "metadata": {
  "kernelspec": {
   "display_name": "Python 3 (ipykernel)",
   "language": "python",
   "name": "python3"
  },
  "language_info": {
   "codemirror_mode": {
    "name": "ipython",
    "version": 3
   },
   "file_extension": ".py",
   "mimetype": "text/x-python",
   "name": "python",
   "nbconvert_exporter": "python",
   "pygments_lexer": "ipython3",
   "version": "3.9.7"
  }
 },
 "nbformat": 4,
 "nbformat_minor": 5
}
