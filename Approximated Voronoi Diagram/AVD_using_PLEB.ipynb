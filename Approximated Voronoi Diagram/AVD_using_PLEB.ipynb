{
 "cells": [
  {
   "cell_type": "markdown",
   "id": "eaa350b9-67f6-40c5-b3b3-895c9ceeddcd",
   "metadata": {},
   "source": [
    "# Approximated Vornoi Diagrams\n",
    "- The method performs a tournament between the Voronoi sites for regions of influence. The algorithm would inflate a ball around each point (site) with constant speed. A point x belongs to site p if p is the first ball to contain x. When two or more balls intersect, a point would be chosen as the representative of the balls in the tournament. The union of all balls should eventually cover the entire space R^d. \n",
    "\n",
    "- Below algorithm uses method proposed by Har-Peled (https://graphics.stanford.edu/courses/cs468-06-fall/Papers/07%20har-peled%20-%20focs%202001.pdf)"
   ]
  },
  {
   "cell_type": "code",
   "execution_count": 1,
   "id": "402d22bb-d570-4b4d-acc2-fb004dcfc867",
   "metadata": {},
   "outputs": [],
   "source": [
    "from sklearn.datasets import make_blobs\n",
    "import matplotlib.pyplot as plt\n",
    "import sys\n",
    "sys.path.append(r'\\Users\\Mochi\\AppData\\Local\\Programs\\Python\\Python310\\Lib\\site-packages')\n",
    "import quads\n",
    "import numpy as np\n",
    "from sklearn.cluster import KMeans\n",
    "import math\n",
    "import matplotlib.patches as patches\n",
    "import statistics as stat"
   ]
  },
  {
   "cell_type": "code",
   "execution_count": 2,
   "id": "8fe278e9-2948-41f9-ab20-1a6e498e35b1",
   "metadata": {},
   "outputs": [
    {
     "data": {
      "image/png": "[encoded data removed]",
      "text/plain": [
       "<Figure size 432x288 with 1 Axes>"
      ]
     },
     "metadata": {
      "needs_background": "light"
     },
     "output_type": "display_data"
    }
   ],
   "source": [
    "X, y = make_blobs(n_samples=5, centers=5, n_features=2,random_state=100)\n",
    "plt.scatter(X[:,0], X[:,1], c='blue');\n",
    "plt.show();"
   ]
  },
  {
   "cell_type": "markdown",
   "id": "b189e10a-0222-4f0f-8bf6-f1b3b8b4901f",
   "metadata": {},
   "source": [
    "# Step 1: Heiarchical Clustering\n",
    "## A. Compute lamda-approximated MST"
   ]
  },
  {
   "cell_type": "code",
   "execution_count": 3,
   "id": "d1f33394-d6d2-4503-9e2a-2e2158422e01",
   "metadata": {},
   "outputs": [],
   "source": [
    "labels = np.array([range(X.shape[0])])\n",
    "size = X.shape[0]\n",
    "dim = X.shape[1]\n",
    "x = np.array([range(5)])\n",
    "X_with_label = np.concatenate((X, x.T), axis=1)\n",
    "lam = 2 # lam > 0\n",
    "gamma = 0.4 # gamma < 1/2"
   ]
  },
  {
   "cell_type": "code",
   "execution_count": 4,
   "id": "d24f385f-ba18-4685-9215-1b30120614ec",
   "metadata": {},
   "outputs": [],
   "source": [
    "def distance(p1, p2, X):\n",
    "    \"\"\"\n",
    "    if p1 != p2, then compute min distance between a point in p1 and a point in p2\n",
    "    \n",
    "    otherwise, compute min distance between 2 points in X\n",
    "    \n",
    "    *assumed no duplicates\n",
    "    \"\"\"\n",
    "    min_D = sys.maxsize\n",
    "    if p1.all() == p2.all():\n",
    "        for x in range(X.shape[0]):\n",
    "            for y in range(X.shape[0]):\n",
    "                if not x==y:\n",
    "                    min_D = min(math.dist(X[x], X[y]), min_D)\n",
    "    else:\n",
    "        for x in p1:\n",
    "            for y in p2:\n",
    "                min_D = min(math.dist(X[x], X[y]), min_D)\n",
    "    return min_D\n",
    "def divide_P(X, pairs): \n",
    "    p1 = []\n",
    "    p2 = []\n",
    "    if not len(pairs) == 0:\n",
    "        for (u,v) in pairs:\n",
    "            if not u in p1:\n",
    "                p1.append(u)\n",
    "            if not v in p1:\n",
    "                p1.append(v)\n",
    "        for x in range(len(X)):\n",
    "            if not x in p1:\n",
    "                p2.append(x)\n",
    "    return np.array(p1), np.array(p2)\n",
    "def compute_min_span_tree(X, lam):\n",
    "    size = X.shape[0]\n",
    "    mst = []\n",
    "    edge = []\n",
    "    while not len(mst)==size-1:\n",
    "     #length should be n-1 pairs\n",
    "        for u in range(size):\n",
    "            if len(mst)==size-1:\n",
    "                break\n",
    "            for v in range(size):\n",
    "                if not u==v and not (u,v) in mst and not (v,u) in mst:\n",
    "                    len_e = math.dist(X[u], X[v])\n",
    "                    p1, p2 = divide_P(X, mst)\n",
    "                    if len(p1)==0:\n",
    "                        dist = distance(X,X,X)\n",
    "                    else:\n",
    "                        dist = distance(p1, p2, X)\n",
    "                    if len_e <= dist and dist <= lam*len_e:\n",
    "                        mst.append((u,v))\n",
    "                        edge.append(math.dist(X[u], X[v]))\n",
    "                        break\n",
    "    mst = np.array(mst)\n",
    "    edge = np.array([edge])\n",
    "    mst_with_edge = np.concatenate((mst, edge.T), axis=1)\n",
    "    return mst, edge, mst_with_edge"
   ]
  },
  {
   "cell_type": "code",
   "execution_count": 5,
   "id": "568d6c4e-6427-4bd8-b7a8-0a3d82070a7e",
   "metadata": {},
   "outputs": [],
   "source": [
    "mst, edge, mst_with_edge = compute_min_span_tree(X, lam)"
   ]
  },
  {
   "cell_type": "code",
   "execution_count": 6,
   "id": "d988667d-af5f-42e4-a33b-42fc900233bd",
   "metadata": {},
   "outputs": [
    {
     "data": {
      "text/plain": [
       "array([[ 1.        ,  4.        ,  6.12457347],\n",
       "       [ 0.        ,  1.        ,  7.55076122],\n",
       "       [ 2.        ,  0.        ,  9.66582598],\n",
       "       [ 3.        ,  0.        , 10.80980414]])"
      ]
     },
     "execution_count": 6,
     "metadata": {},
     "output_type": "execute_result"
    }
   ],
   "source": [
    "mst_with_edge"
   ]
  },
  {
   "cell_type": "code",
   "execution_count": 7,
   "id": "815b5336-e352-4f13-a5d4-caf28e7a4b99",
   "metadata": {},
   "outputs": [
    {
     "data": {
      "image/png": "[encoded data removed]",
      "text/plain": [
       "<Figure size 432x288 with 1 Axes>"
      ]
     },
     "metadata": {
      "needs_background": "light"
     },
     "output_type": "display_data"
    }
   ],
   "source": [
    "###plot MST\n",
    "for (u,v) in mst:\n",
    "    x_val = np.array([X[u][0], X[v][0]])\n",
    "    y_val = np.array([X[u][1], X[v][1]])\n",
    "    plt.plot(x_val, y_val)\n",
    "plt.scatter(X[:,0], X[:,1], c='black');\n",
    "plt.show()"
   ]
  },
  {
   "cell_type": "markdown",
   "id": "a9c414f8-a665-4fba-9864-956d14f5c5eb",
   "metadata": {},
   "source": [
    "## B. Compute Directed Tree\n",
    "- this also computes r-loss values"
   ]
  },
  {
   "cell_type": "code",
   "execution_count": 8,
   "id": "f583aa59-48fd-49ce-84b5-9c933b393435",
   "metadata": {},
   "outputs": [],
   "source": [
    "class DirectedTree:\n",
    "    def __init__(self, node_id, point):\n",
    "        self.node_id = node_id\n",
    "        self.point = point\n",
    "        self.parent = None\n",
    "        self.children = []\n",
    "    def __repr__(self):\n",
    "        return 'Tree {}: Point: {}, Children: {}'.format(str(self.node_id), str(self.point), str(self.children))\n",
    "    def add_child(self, child):\n",
    "        self.children.append(child)\n",
    "    def merge_tree(self, t2, mst):\n",
    "        if len(self.children) == 0 and len(t2.children) == 0:\n",
    "            self_count = np.count_nonzero(mst == self.node_id)\n",
    "            t2_count = np.count_nonzero(mst == t2.node_id)\n",
    "            if self_count >= t2_count:\n",
    "                self.add_child(t2)\n",
    "                t2.parent = self\n",
    "                return self, self.node_id, t2.node_id\n",
    "            else:\n",
    "                t2.add_child(self)\n",
    "                self.parent = t2\n",
    "                return t2, t2.node_id, self.node_id\n",
    "        elif len(self.children) > len(t2.children):\n",
    "            self.add_child(t2)\n",
    "            t2.parent = self\n",
    "            return self, self.node_id, t2.node_id\n",
    "        else:\n",
    "            t2.add_child(self)\n",
    "            self.parent = t2\n",
    "            return t2, t2.node_id, self.node_id\n",
    "def get_tree(forest, idx, merge):\n",
    "    for tree in forest:\n",
    "        if tree.node_id == idx:\n",
    "            return tree\n",
    "    for (new, remove) in merge:\n",
    "        if remove == idx:\n",
    "            for tree in forest:\n",
    "                if tree.node_id == new:\n",
    "                    for c in tree.children:\n",
    "                        if c.node_id == remove:\n",
    "                            return c\n",
    "def compute_directed_tree(X, mst_with_edge):\n",
    "    forest = []\n",
    "    for t in range(len(X)):\n",
    "        forest.append(DirectedTree(t, X[t]))\n",
    "    temp_mst = mst_with_edge\n",
    "    temp_forest = forest\n",
    "    merge_history = []\n",
    "    r_loss = []\n",
    "    while not len(temp_mst) == 0:\n",
    "        u = temp_mst[0][0]\n",
    "        v = temp_mst[0][1]\n",
    "        u = get_tree(temp_forest, u, merge_history)\n",
    "        v = get_tree(temp_forest, v, merge_history)\n",
    "        new_tree, new_id, removed_id = DirectedTree.merge_tree(u, v, mst)\n",
    "        r_loss.append([new_id, removed_id, temp_mst[0][2]/2])\n",
    "        temp_mst = np.delete(temp_mst, 0, 0)\n",
    "        temp_forest.remove(get_tree(temp_forest, removed_id, merge_history))\n",
    "        merge_history.append((new_id, removed_id))\n",
    "    return temp_forest, r_loss\n",
    "def reorder_rloss(r_loss, X): ##id -> r_loss\n",
    "    r_loss = np.array(r_loss)\n",
    "    new_r = np.zeros((X.shape[0], 1))\n",
    "    for r in range(r_loss.shape[0]):\n",
    "        new_r[int(r_loss[r][1])] = r_loss[r][2]\n",
    "    return new_r\n",
    "def compute_rdeath(r_loss, lam, gamma):\n",
    "    return 6 * lam * r_loss * math.log(X.shape[0],2) * X.shape[0] / gamma\n",
    "def compute_rmedian(X_rloss):\n",
    "    return stat.median(X_rloss)\n",
    "def compute_rtop(r_median, X, P, lam, gamma): #P entire point-set, X is subset of P\n",
    "    return((36*lam*X.shape[0]*math.log(P.shape[0],2))/gamma)*r_median"
   ]
  },
  {
   "cell_type": "code",
   "execution_count": 9,
   "id": "cb322e59-655c-490f-9c4f-54a74fb34102",
   "metadata": {},
   "outputs": [
    {
     "data": {
      "text/plain": [
       "[Tree 1: Point: [-1.96767517  7.33068613], Children: [Tree 4: Point: [4.0877025  6.41264396], Children: [], Tree 0: Point: [-7.79714858  2.53159927], Children: [Tree 2: Point: [-10.48921793  -6.75177051], Children: [], Tree 3: Point: [ 0.678603   -4.17761085], Children: []]]]"
      ]
     },
     "execution_count": 9,
     "metadata": {},
     "output_type": "execute_result"
    }
   ],
   "source": [
    "forest, r_loss = compute_directed_tree(X, mst_with_edge)\n",
    "forest"
   ]
  },
  {
   "cell_type": "code",
   "execution_count": 10,
   "id": "121867e0-f214-45de-a39a-c1f645c81878",
   "metadata": {},
   "outputs": [
    {
     "data": {
      "text/plain": [
       "array([[3.77538061],\n",
       "       [0.        ],\n",
       "       [4.83291299],\n",
       "       [5.40490207],\n",
       "       [3.06228673]])"
      ]
     },
     "execution_count": 10,
     "metadata": {},
     "output_type": "execute_result"
    }
   ],
   "source": [
    "r_loss = reorder_rloss(r_loss, X)\n",
    "r_loss"
   ]
  },
  {
   "cell_type": "code",
   "execution_count": 13,
   "id": "a6454d5d-c443-4c56-9b9e-098783c4c216",
   "metadata": {},
   "outputs": [
    {
     "data": {
      "text/plain": [
       "array([[1314.92434568],\n",
       "       [   0.        ],\n",
       "       [1683.25146832],\n",
       "       [1882.46909476],\n",
       "       [1066.56144044]])"
      ]
     },
     "execution_count": 13,
     "metadata": {},
     "output_type": "execute_result"
    }
   ],
   "source": [
    "r_death = compute_rdeath(r_loss, lam, gamma)\n",
    "r_death"
   ]
  },
  {
   "cell_type": "code",
   "execution_count": 14,
   "id": "b8e7c3e2-5858-465d-8945-e87e5aff4cc0",
   "metadata": {},
   "outputs": [
    {
     "data": {
      "text/plain": [
       "3.775380608842835"
      ]
     },
     "execution_count": 14,
     "metadata": {},
     "output_type": "execute_result"
    }
   ],
   "source": [
    "r_median = compute_rmedian(r_loss)\n",
    "r_median[0]"
   ]
  },
  {
   "cell_type": "code",
   "execution_count": 15,
   "id": "a25475e3-fb89-4b5a-8483-a9d9d8dafb3c",
   "metadata": {},
   "outputs": [
    {
     "data": {
      "text/plain": [
       "array([7889.54607411])"
      ]
     },
     "execution_count": 15,
     "metadata": {},
     "output_type": "execute_result"
    }
   ],
   "source": [
    "r_top = compute_rtop(r_median, X, X, lam, gamma)\n",
    "r_top"
   ]
  },
  {
   "cell_type": "markdown",
   "id": "9efd3b9e-074a-41bc-bc77-f1c0b202f23b",
   "metadata": {},
   "source": [
    "# Step 2: Build NN Search Tree"
   ]
  },
  {
   "cell_type": "code",
   "execution_count": 17,
   "id": "1080b34a-a683-4159-96e5-4f98ca387c19",
   "metadata": {},
   "outputs": [],
   "source": [
    "class NNSearchNode:\n",
    "    def __init__(self):\n",
    "        # self.r_negative = None\n",
    "        # self.r_positive = None\n",
    "        # self.P = None\n",
    "        self.outer = None\n",
    "        self.inner = []\n",
    "        self.IPLEB = None\n",
    "    def __repr__(self):\n",
    "        return 'Node -- Outer: {}, Inner: {}'.format(str(self.outer), str(self.inner))\n",
    "    def add_outer(self, outer):\n",
    "        self.outer = outer\n",
    "    def add_inner(self, inner):\n",
    "        self.inner.append(inner)\n",
    "class NNSearchTree:\n",
    "    def __init__(self):\n",
    "        self.root = None\n",
    "    def __repr__(self):\n",
    "        return 'Root: {}'.format(str(self.root))\n",
    "    def add_root(self, root):\n",
    "        self.root = root\n",
    "    def query(self, q):\n",
    "        \"\"\"\n",
    "        compute min distance between a point in self.P and q\n",
    "        \"\"\"\n",
    "        print('looking for {}...'.format(str(q)))\n",
    "        v = self.root\n",
    "        print('current points in tree: {}'.format(v.P))\n",
    "        min_D = sys.maxsize\n",
    "        for p in range(len(v.IPLEB.P)):\n",
    "            if min_D > math.dist(v.IPLEB.P[p],q):\n",
    "                u = v.IPLEB.P[p]\n",
    "                min_D = math.dist(v.IPLEB.P[p],q)\n",
    "        if min_D > v.r_positive:\n",
    "            print(\"min_D >= v+\")\n",
    "            return query(v.outer, q)\n",
    "        if v.r_negative <= min_D and min_D <= v.r_positive:\n",
    "            print(\"v- <= min_D <= v+\")\n",
    "            for p in range(len(v.IPLEB.P)):\n",
    "                if (1+v.IPLEB.e)*min_D >= math.dist(self.P[p],q):\n",
    "                    u = self.P[p]\n",
    "                    print(u)\n",
    "                    return u\n",
    "        print(\"min_D <= v-\")\n",
    "        for cc in v.cc:\n",
    "            print(X[cc])\n",
    "            if len(cc) == 1 :##and v.M[cc]==u:\n",
    "                print(X[cc])\n",
    "                return X[cc]\n",
    "class IPLEB:\n",
    "    def __init__(self,P,a,b,e):\n",
    "        self.P = P\n",
    "        self.a = a\n",
    "        self.b = b\n",
    "        self.e = e\n",
    "class Ball:\n",
    "    def __init__(self, point, rad, site):\n",
    "        self.point = point\n",
    "        self.rad = rad\n",
    "        self.site = site\n",
    "    def __repr__(self):\n",
    "        return 'Ball: Point: {}, Radius: {}, Site no.{}'.format(str(self.point), str(self.rad), str(self.site))"
   ]
  },
  {
   "cell_type": "code",
   "execution_count": 18,
   "id": "19560faa-bf9a-402b-9f3f-ae9251efc6e0",
   "metadata": {},
   "outputs": [],
   "source": [
    "def connected_component(X, r):\n",
    "    cc = []\n",
    "    for x in range(X.shape[0]):\n",
    "        temp = []\n",
    "        temp.append(x)\n",
    "        for y in range(x+1,X.shape[0]):\n",
    "            if math.dist(X[x],X[y])<=2*r:\n",
    "                temp.append(y) \n",
    "        cc.append(temp)\n",
    "    have_duplicate = True\n",
    "    while have_duplicate:\n",
    "        have_duplicate = False\n",
    "        for i in range(len(cc)): \n",
    "            for j in range(i+1, len(cc)):\n",
    "                if len(set(cc[i]).intersection(cc[j]))>0:\n",
    "                    cc[i] = list(set(cc[i]).union(cc[j]))\n",
    "                    cc.pop(j)\n",
    "                    have_duplicate = True\n",
    "                    break\n",
    "            break\n",
    "    return cc"
   ]
  },
  {
   "cell_type": "code",
   "execution_count": 22,
   "id": "bd447d69-c78c-4d99-a477-200c220b778e",
   "metadata": {},
   "outputs": [],
   "source": [
    "def buildNNTree(M, M_rloss, M_rdeath, lam, gamma, r_min, r_max, P, M_with_label):\n",
    "    tree = NNSearchTree()\n",
    "    v = NNSearchNode()\n",
    "    v.r_max = r_max\n",
    "    r_median = compute_rmedian(M_rloss)[0]\n",
    "    v.r_negative = max(r_median, r_min)\n",
    "    v.r_positive = min(compute_rtop(r_median, M, P, lam, gamma), r_max)\n",
    "    v.P = M_with_label\n",
    "    # print('received r_min: {}, r_max: {}, r_median: {}, r_top: {}, all points: {}'.format(str(r_min), str(r_max), str(r_median), str(compute_rtop(r_median, M, P, lam, gamma)), str(M)))\n",
    "    # print('r-: {}, r+: {}'.format(str(v.r_negative), str(v.r_positive)))\n",
    "    if v.r_negative >= v.r_positive: \n",
    "        tree.add_root(v)\n",
    "        return tree\n",
    "    #compute inner pleb\n",
    "    v.IPLEB = IPLEB(M, v.r_negative, v.r_positive, gamma/3)\n",
    "    #compute M+\n",
    "    # print(\"compute M+\")\n",
    "    m_plus = []\n",
    "    for r in range(len(M_rdeath)):\n",
    "        if M_rdeath[r] > v.r_positive:\n",
    "            m_plus.append(r)\n",
    "    m_plus = np.array(m_plus)\n",
    "    # print(m_plus)\n",
    "    M_positive = M[m_plus]\n",
    "    new_rloss = M_rloss[m_plus]\n",
    "    new_rdeath = M_rdeath[m_plus]\n",
    "    if not len(M_positive) == 0:\n",
    "        # print(\"build outer tree\")\n",
    "        T = buildNNTree(M_positive, new_rloss, new_rdeath, lam, gamma, v.r_positive, r_max, P, M_with_label[m_plus])\n",
    "        v.add_outer(T)\n",
    "    cc = connected_component(M,v.r_negative)\n",
    "    v.cc = cc\n",
    "    # print(\"cc\")\n",
    "    # print(cc)\n",
    "    for x in cc:\n",
    "        if len(x) > 1:\n",
    "            # print(\"compute inner\")\n",
    "            v.add_inner(buildNNTree(np.array(M[x]),np.array(M_rloss[x]), np.array(M_rdeath[x]), lam, gamma, r_min, v.r_negative, P, np.array(M_with_label[x])))\n",
    "    # print(v)\n",
    "    tree.add_root(v)\n",
    "    return tree"
   ]
  },
  {
   "cell_type": "code",
   "execution_count": 23,
   "id": "ec8d2426-4473-4f43-94d0-907489fede97",
   "metadata": {},
   "outputs": [
    {
     "data": {
      "text/plain": [
       "(5.404902069403021, 3.062286734295503)"
      ]
     },
     "execution_count": 23,
     "metadata": {},
     "output_type": "execute_result"
    }
   ],
   "source": [
    "max_r = max(mst_with_edge[:,-1])/2\n",
    "min_r = min(mst_with_edge[:,-1])/2\n",
    "max_r, min_r"
   ]
  },
  {
   "cell_type": "code",
   "execution_count": 24,
   "id": "4e543787-32a8-4874-b814-67f21fa93eb7",
   "metadata": {},
   "outputs": [],
   "source": [
    "b = buildNNTree(X, r_loss, r_death, lam, gamma, min_r, max_r, X, X_with_label)"
   ]
  },
  {
   "cell_type": "code",
   "execution_count": 25,
   "id": "ccacda65-c419-4950-b3dd-09bb3c2207bf",
   "metadata": {},
   "outputs": [],
   "source": [
    "def totuple(a):\n",
    "    try:\n",
    "        return tuple(totuple(i) for i in a)\n",
    "    except TypeError:\n",
    "        return a\n",
    "def get_all_balls(tree):\n",
    "    node = tree.root\n",
    "    return get_balls(node)\n",
    "def get_balls(node):\n",
    "    balls = []\n",
    "    for p in node.P:\n",
    "        site = p[-1]\n",
    "        #balls.append(Ball(p[:-1], node.r_max, int(site)))\n",
    "        balls.append((totuple(p[:-1]), node.r_max, int(site)))\n",
    "        if not node.IPLEB == None:\n",
    "            #balls.append(Ball(p[:-1], node.IPLEB.a, int(site)))\n",
    "            balls.append((totuple(p[:-1]), node.IPLEB.a, int(site)))\n",
    "            if not node.IPLEB.b == node.r_max:\n",
    "                #balls.append(Ball(p[:-1], node.IPLEB.b, int(site)))\n",
    "                balls.append((totuple(p[:-1]), node.IPLEB.b, int(site)))\n",
    "    if not node.outer == None:\n",
    "        balls.append(get_all_balls(node.outer))\n",
    "    if not len(node.inner) == 0:\n",
    "        for i in node.inner:\n",
    "            balls.append(get_all_balls(i))\n",
    "    return balls\n",
    "## referenced at https://stackoverflow.com/questions/12472338/flattening-a-list-recursively\n",
    "def flatten(S):\n",
    "    if S == []:\n",
    "        return S\n",
    "    if isinstance(S[0], list):\n",
    "        return flatten(S[0]) + flatten(S[1:])\n",
    "    return S[:1] + flatten(S[1:])"
   ]
  },
  {
   "cell_type": "markdown",
   "id": "e66d7345-ae29-4ae7-a66d-35a3d49d76a8",
   "metadata": {},
   "source": [
    "# Step 3: Identify all 'critical' balls for the tournament"
   ]
  },
  {
   "cell_type": "code",
   "execution_count": 26,
   "id": "976bb977-0803-4bef-a7a8-924bfa03ec70",
   "metadata": {},
   "outputs": [
    {
     "data": {
      "text/plain": [
       "{((-10.489217926503212, -6.7517705126519365), 3.775380608842835, 2),\n",
       " ((-10.489217926503212, -6.7517705126519365), 5.404902069403021, 2),\n",
       " ((-7.7971485831528495, 2.5315992736783453), 3.062286734295503, 0),\n",
       " ((-7.7971485831528495, 2.5315992736783453), 3.775380608842835, 0),\n",
       " ((-7.7971485831528495, 2.5315992736783453), 5.404902069403021, 0),\n",
       " ((-1.9676751705199629, 7.330686134520967), 3.062286734295503, 1),\n",
       " ((-1.9676751705199629, 7.330686134520967), 3.775380608842835, 1),\n",
       " ((-1.9676751705199629, 7.330686134520967), 5.404902069403021, 1),\n",
       " ((0.6786030049961334, -4.1776108538506955), 3.775380608842835, 3),\n",
       " ((0.6786030049961334, -4.1776108538506955), 5.404902069403021, 3),\n",
       " ((4.087702500245234, 6.412643958710326), 3.062286734295503, 4),\n",
       " ((4.087702500245234, 6.412643958710326), 3.775380608842835, 4),\n",
       " ((4.087702500245234, 6.412643958710326), 5.404902069403021, 4)}"
      ]
     },
     "execution_count": 26,
     "metadata": {},
     "output_type": "execute_result"
    }
   ],
   "source": [
    "balls = set(flatten(get_all_balls(b)))\n",
    "balls"
   ]
  },
  {
   "cell_type": "code",
   "execution_count": 27,
   "id": "783e574d-9035-425d-96ac-8e32a1b19b94",
   "metadata": {},
   "outputs": [
    {
     "data": {
      "text/plain": [
       "13"
      ]
     },
     "execution_count": 27,
     "metadata": {},
     "output_type": "execute_result"
    }
   ],
   "source": [
    "len(balls)"
   ]
  },
  {
   "cell_type": "markdown",
   "id": "9c075372-6656-45d8-a6f7-03d0ecac4f15",
   "metadata": {},
   "source": [
    "# Step 4: Convert balls found in Step 3 into cubes\n",
    "## A. Compute bounding box that covers all points in X"
   ]
  },
  {
   "cell_type": "code",
   "execution_count": 28,
   "id": "47fb6905-debd-4fb5-a3f9-7289651d1437",
   "metadata": {},
   "outputs": [],
   "source": [
    "bounding_box_length = math.ceil(max(max(np.absolute(X[:,0])),max(np.absolute(X[:,1]))))*2\n",
    "bounding_box_length\n",
    "box_point = np.array([-bounding_box_length/2,bounding_box_length/2])#upper left of box"
   ]
  },
  {
   "cell_type": "code",
   "execution_count": 29,
   "id": "9085f7fa-5b23-4680-b22e-6fc5a10cd5f9",
   "metadata": {},
   "outputs": [
    {
     "data": {
      "text/plain": [
       "array([-11.,  11.])"
      ]
     },
     "execution_count": 29,
     "metadata": {},
     "output_type": "execute_result"
    }
   ],
   "source": [
    "box_point"
   ]
  },
  {
   "cell_type": "markdown",
   "id": "64963179-a148-4253-b037-4a368bb06d9f",
   "metadata": {},
   "source": [
    "## B. Find all cubes that intersects with balls found in Step 3"
   ]
  },
  {
   "cell_type": "code",
   "execution_count": 30,
   "id": "3748cba8-d739-40db-bbaf-c7aa8ac2f07f",
   "metadata": {},
   "outputs": [],
   "source": [
    "class Cube:\n",
    "    def __init__(self, point, side, site):\n",
    "        self.point = point\n",
    "        self.side = side\n",
    "        self.site = site\n",
    "    def __repr__(self):\n",
    "        return 'Cube: Point: {}, Side length: {}, Site no.{}'.format(str(self.point), str(self.side), str(self.site))"
   ]
  },
  {
   "cell_type": "code",
   "execution_count": 36,
   "id": "b9fd063f-9804-442a-9870-e6d8a0a55cf7",
   "metadata": {},
   "outputs": [],
   "source": [
    "##https://www.geeksforgeeks.org/check-if-any-point-overlaps-the-given-circle-and-rectangle/\n",
    "def checkOverlap(R, Xc, Yc, X1, Y1, X2, Y2):\n",
    " \n",
    "    # Find the nearest point on the\n",
    "    # rectangle to the center of\n",
    "    # the circle\n",
    "    Xn = max(X1, min(Xc, X2))\n",
    "    Yn = max(Y1, min(Yc, Y2))\n",
    "     \n",
    "    # Find the distance between the\n",
    "    # nearest point and the center\n",
    "    # of the circle\n",
    "    # Distance between 2 points,\n",
    "    # (x1, y1) & (x2, y2) in\n",
    "    # 2D Euclidean space is\n",
    "    # ((x1-x2)**2 + (y1-y2)**2)**0.5\n",
    "    Dx = Xn - Xc\n",
    "    Dy = Yn - Yc\n",
    "    return (Dx**2 + Dy**2) <= R**2\n",
    "def ball_to_cube(X, epsilon, balls, box_point, bounding_box_length):\n",
    "    \"\"\"\n",
    "    Parameter\n",
    "    ---------\n",
    "    epsilon : float\n",
    "    approximate factor, should be >0\n",
    "    \n",
    "    \n",
    "    \"\"\"\n",
    "    cubes = []\n",
    "    border = []\n",
    "    d = X.shape[1]\n",
    "    side = sys.maxsize\n",
    "    for ball in balls:\n",
    "        u = (ball[-2] * epsilon)/(3*d)\n",
    "        side = min(side, math.pow(2, math.floor(math.log(u, 2))))\n",
    "\n",
    "    count = math.ceil(bounding_box_length/side)\n",
    "    check_border = np.full((count+1, count+1), False)\n",
    "    cubes_label = np.full((count+1, count+1), size)\n",
    "    prev = size\n",
    "    for i in range(count+1): #row\n",
    "        for j in range(count+1): #col\n",
    "            add = False\n",
    "            for ball in balls:\n",
    "                if checkOverlap(ball[-2], ball[0][0], ball[0][1], box_point[0]+j*side, box_point[1]-i*side, box_point[0]+(j+1)*side, box_point[1]-(i+1)*side):\n",
    "                    if not prev == ball[-1]:\n",
    "                        check_border[i][j] = True\n",
    "                        border.append(np.array([box_point[0]+j*side, box_point[1]-i*side, box_point[0]+j*side, box_point[1]-(i+1)*side])) \n",
    "                    cubes.append(Cube(np.array([box_point[0]+j*side, box_point[1]-(i+1)*side]), side, ball[-1]))\n",
    "                    add = True\n",
    "                    prev = ball[-1]\n",
    "                    break\n",
    "            if not add:\n",
    "                if not prev == size:\n",
    "                        border.append(np.array([box_point[0]+j*side, box_point[1]-i*side, box_point[0]+j*side, box_point[1]-(i+1)*side])) \n",
    "                # cubes_array.append(np.array([box_point[0]+j*side, box_point[1]-(i+1)*side, side, size]))\n",
    "                prev = size\n",
    "    \n",
    "    return cubes, border            "
   ]
  },
  {
   "cell_type": "code",
   "execution_count": 37,
   "id": "78878901-0a7e-41dc-b94a-4bc8f9a70f0f",
   "metadata": {},
   "outputs": [],
   "source": [
    "epsilon = 1\n",
    "cubes, border = ball_to_cube(X, epsilon, balls, box_point, bounding_box_length)"
   ]
  },
  {
   "cell_type": "code",
   "execution_count": 38,
   "id": "e36107a6-b907-475c-9699-742e44f46c85",
   "metadata": {},
   "outputs": [
    {
     "data": {
      "text/plain": [
       "1418"
      ]
     },
     "execution_count": 38,
     "metadata": {},
     "output_type": "execute_result"
    }
   ],
   "source": [
    "len(cubes)"
   ]
  },
  {
   "cell_type": "code",
   "execution_count": 39,
   "id": "5ed15032-3e2e-4bb8-8d3e-d2a8e39140b2",
   "metadata": {},
   "outputs": [
    {
     "data": {
      "image/png": "[encoded data removed]",
      "text/plain": [
       "<Figure size 432x288 with 1 Axes>"
      ]
     },
     "metadata": {
      "needs_background": "light"
     },
     "output_type": "display_data"
    },
    {
     "data": {
      "image/png": "[encoded data removed]",
      "text/plain": [
       "<Figure size 432x288 with 1 Axes>"
      ]
     },
     "metadata": {
      "needs_background": "light"
     },
     "output_type": "display_data"
    }
   ],
   "source": [
    "fig, ax1 = plt.subplots(1, 1)\n",
    "colors = ['red', 'blue', 'green', 'purple', 'yellow', 'black']\n",
    "# for c in cubes:\n",
    "#     rect = patches.Rectangle((c.point[0], c.point[1]), c.side, c.side, linewidth=0.5, edgecolor=colors[c.site], facecolor='none')\n",
    "#     ax1.add_patch(rect)\n",
    "for b in border:\n",
    "    x = np.array([b[0], b[2]])\n",
    "    y = np.array([b[1], b[3]])\n",
    "    plt.plot(x,y,linewidth=0.5, color='black')\n",
    "plt.scatter(X[:,0], X[:,1], c='black');\n",
    "plt.show();\n",
    "\n",
    "fig, ax1 = plt.subplots(1, 1)\n",
    "colors = ['red', 'blue', 'green', 'purple', 'yellow', 'black']\n",
    "for c in cubes:\n",
    "    rect = patches.Rectangle((c.point[0], c.point[1]), c.side, c.side, linewidth=0.5, edgecolor=colors[c.site], facecolor='none')\n",
    "    ax1.add_patch(rect)\n",
    "for b in border:\n",
    "    x = np.array([b[0], b[2]])\n",
    "    y = np.array([b[1], b[3]])\n",
    "    plt.plot(x,y,linewidth=0.5, color='black')\n",
    "plt.scatter(X[:,0], X[:,1], c='black');\n",
    "plt.show();"
   ]
  },
  {
   "cell_type": "code",
   "execution_count": 40,
   "id": "97086117-9f84-4ec0-8d1f-954c266fd232",
   "metadata": {},
   "outputs": [
    {
     "data": {
      "image/png": "[encoded data removed]",
      "text/plain": [
       "<Figure size 432x288 with 1 Axes>"
      ]
     },
     "metadata": {
      "needs_background": "light"
     },
     "output_type": "display_data"
    }
   ],
   "source": [
    "from scipy.spatial import Voronoi, voronoi_plot_2d\n",
    "vor = Voronoi(X)\n",
    "fig = voronoi_plot_2d(vor)\n",
    "plt.show()"
   ]
  },
  {
   "cell_type": "code",
   "execution_count": null,
   "id": "b944fd56-fb7e-4f18-bad8-223a8a41e415",
   "metadata": {},
   "outputs": [],
   "source": []
  }
 ],
 "metadata": {
  "kernelspec": {
   "display_name": "Python 3 (ipykernel)",
   "language": "python",
   "name": "python3"
  },
  "language_info": {
   "codemirror_mode": {
    "name": "ipython",
    "version": 3
   },
   "file_extension": ".py",
   "mimetype": "text/x-python",
   "name": "python",
   "nbconvert_exporter": "python",
   "pygments_lexer": "ipython3",
   "version": "3.9.5"
  }
 },
 "nbformat": 4,
 "nbformat_minor": 5
}
