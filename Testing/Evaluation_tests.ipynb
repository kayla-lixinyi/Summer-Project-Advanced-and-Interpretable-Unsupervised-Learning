{
 "cells": [
  {
   "cell_type": "code",
   "execution_count": 1,
   "id": "d5142897-db50-4932-a93a-2dfd992ab6fb",
   "metadata": {},
   "outputs": [
    {
     "ename": "IndentationError",
     "evalue": "unindent does not match any outer indentation level (ILS_Evaluation.py, line 71)",
     "output_type": "error",
     "traceback": [
      "Traceback \u001b[1;36m(most recent call last)\u001b[0m:\n",
      "  File \u001b[0;32m\"C:\\Users\\Dtan7\\anaconda3\\lib\\site-packages\\IPython\\core\\interactiveshell.py\"\u001b[0m, line \u001b[0;32m3444\u001b[0m, in \u001b[0;35mrun_code\u001b[0m\n    exec(code_obj, self.user_global_ns, self.user_ns)\n",
      "\u001b[1;36m  File \u001b[1;32m\"C:\\Users\\Dtan7\\AppData\\Local\\Temp/ipykernel_132/3398820101.py\"\u001b[1;36m, line \u001b[1;32m6\u001b[1;36m, in \u001b[1;35m<module>\u001b[1;36m\u001b[0m\n\u001b[1;33m    from ILS_Evaluation import ILS_Evaluation\u001b[0m\n",
      "\u001b[1;36m  File \u001b[1;32m\"C:\\Users\\Dtan7\\Desktop\\ILS\\Testing\\..\\ILS_Evaluation.py\"\u001b[1;36m, line \u001b[1;32m71\u001b[0m\n\u001b[1;33m    def __init__(self, data_set, min_cluster_size=None, significance=2.56, metric='euclidean'):\u001b[0m\n\u001b[1;37m                                                                                               ^\u001b[0m\n\u001b[1;31mIndentationError\u001b[0m\u001b[1;31m:\u001b[0m unindent does not match any outer indentation level\n"
     ]
    }
   ],
   "source": [
    "import numpy as np\n",
    "import pandas as pd\n",
    "import sys\n",
    "sys.path.append(\"..\")\n",
    "from ILS_class import ILS\n",
    "from ILS_Evaluation import ILS_Evaluation\n",
    "import matplotlib.pyplot as plt"
   ]
  },
  {
   "cell_type": "code",
   "execution_count": null,
   "id": "5e74cf27-fc40-4c8d-ad37-c3e5bb970821",
   "metadata": {},
   "outputs": [],
   "source": [
    "data_set =  pd.read_csv(r\"Artificial Data sets\\target.csv\")\n",
    "test = ILS_Evaluation(data_set, min_cluster_size = 100)\n",
    "test.plot_cluster_rmin()"
   ]
  },
  {
   "cell_type": "code",
   "execution_count": null,
   "id": "09218b88-31dc-4e3b-bd60-6aea4e0c7cda",
   "metadata": {},
   "outputs": [],
   "source": [
    "n_clusters = test.find_within_clusters(plot_labels = True)\n",
    "print(\"Number of clusters found within each suggested clustering\")\n",
    "print(n_clusters)"
   ]
  },
  {
   "cell_type": "code",
   "execution_count": null,
   "id": "9890a45d-ec62-4784-aaab-05523af822a4",
   "metadata": {},
   "outputs": [],
   "source": [
    "data_set =  pd.read_csv(r\"Artificial Data sets\\zelnik1.csv\")\n",
    "test = ILS_Evaluation(data_set, min_cluster_size = 50)\n",
    "test.plot_cluster_rmin()"
   ]
  },
  {
   "cell_type": "code",
   "execution_count": null,
   "id": "08aed39d-379f-426b-9bcf-2754f28ab449",
   "metadata": {},
   "outputs": [],
   "source": [
    "n_clusters = test.find_within_clusters(plot_labels = True)\n",
    "print(\"Number of clusters found within each suggested clustering\")\n",
    "print(n_clusters)"
   ]
  },
  {
   "cell_type": "code",
   "execution_count": null,
   "id": "3235e9b1-70b6-45f5-901b-300bc915ab22",
   "metadata": {},
   "outputs": [],
   "source": [
    "data_set =  pd.read_csv(r\"Artificial Data sets\\zelnik6.csv\")\n",
    "test = ILS_Evaluation(data_set, min_cluster_size = 50)\n",
    "test.plot_cluster_rmin()"
   ]
  },
  {
   "cell_type": "code",
   "execution_count": null,
   "id": "6d106a8c-5ea0-4763-9ff1-4681a07d0aae",
   "metadata": {},
   "outputs": [],
   "source": [
    "n_clusters = test.find_within_clusters(plot_labels = True)\n",
    "print(\"Number of clusters found within each suggested clustering\")\n",
    "print(n_clusters)"
   ]
  },
  {
   "cell_type": "markdown",
   "id": "ca6598fe-512d-42b8-a592-336044a887ef",
   "metadata": {},
   "source": [
    "POOR SUGGESTED CLUSTERING"
   ]
  },
  {
   "cell_type": "code",
   "execution_count": null,
   "id": "b8c1cabe-1c80-4213-930c-8bf65041d625",
   "metadata": {},
   "outputs": [],
   "source": [
    "data_set =  np.array(pd.read_csv(r\"Artificial Data sets\\zelnik1.csv\", header = 1))\n",
    "data_set[:, -1] = np.ones(data_set[:, -1].shape)\n",
    "test = ILS_Evaluation(data_set, min_cluster_size = 50)\n",
    "test.plot_cluster_rmin()"
   ]
  },
  {
   "cell_type": "code",
   "execution_count": null,
   "id": "79220bf7-a5c1-4627-86f0-2ec3db4de281",
   "metadata": {},
   "outputs": [],
   "source": [
    "n_clusters = test.find_within_clusters(plot_labels = True)\n",
    "print(\"Number of clusters found within each suggested clustering\")\n",
    "print(n_clusters)"
   ]
  },
  {
   "cell_type": "markdown",
   "id": "d83eafdf-08f0-4a8b-9bf1-ed9a22eea7c3",
   "metadata": {},
   "source": [
    "Now trying class 1 and 2 labelled together and class 0 labelled correctly"
   ]
  },
  {
   "cell_type": "code",
   "execution_count": null,
   "id": "4869e13d-fca1-44ac-9aec-4c3861caa88e",
   "metadata": {},
   "outputs": [],
   "source": [
    "data_set =  np.array(pd.read_csv(r\"Artificial Data sets\\zelnik1.csv\", header = 1))\n",
    "data_set[61:, -1] = np.ones(data_set[61:, -1].shape)\n",
    "test = ILS_Evaluation(data_set, min_cluster_size = 50)\n",
    "test.plot_cluster_rmin()"
   ]
  },
  {
   "cell_type": "code",
   "execution_count": null,
   "id": "391b23c2-0bb8-4dbd-9ef3-befa59693c88",
   "metadata": {},
   "outputs": [],
   "source": [
    "n_clusters = test.find_within_clusters(plot_labels = True)\n",
    "print(\"Number of clusters found within each suggested clustering\")\n",
    "print(n_clusters)"
   ]
  },
  {
   "cell_type": "code",
   "execution_count": null,
   "id": "1aa80fd8-0451-4583-9a0d-5f99dfe56fb2",
   "metadata": {},
   "outputs": [],
   "source": []
  },
  {
   "cell_type": "code",
   "execution_count": null,
   "id": "7496f9d8-1eae-4a95-bd7b-752b6bb9f5e0",
   "metadata": {},
   "outputs": [],
   "source": []
  }
 ],
 "metadata": {
  "kernelspec": {
   "display_name": "Python 3 (ipykernel)",
   "language": "python",
   "name": "python3"
  },
  "language_info": {
   "codemirror_mode": {
    "name": "ipython",
    "version": 3
   },
   "file_extension": ".py",
   "mimetype": "text/x-python",
   "name": "python",
   "nbconvert_exporter": "python",
   "pygments_lexer": "ipython3",
   "version": "3.9.7"
  }
 },
 "nbformat": 4,
 "nbformat_minor": 5
}
